{
 "cells": [
  {
   "cell_type": "markdown",
   "metadata": {},
   "source": [
    "# Matrix Factorization"
   ]
  },
  {
   "cell_type": "markdown",
   "metadata": {
    "colab_type": "text",
    "id": "TpSqCKDOIMup"
   },
   "source": [
    "## Preparation\n"
   ]
  },
  {
   "cell_type": "markdown",
   "metadata": {
    "colab_type": "text",
    "id": "Dhq48-72Jhoe"
   },
   "source": [
    "### Python library\n",
    "In this practice,  we use the **[scikit-surprise](https://surprise.readthedocs.io/en/stable/index.html)** library.\n",
    "The scikit-surprise library is a python library to use famous recommendation algorithms efficiently.\n",
    "Let's run the following code and install the scikit-surprise library into your environment."
   ]
  },
  {
   "cell_type": "code",
   "execution_count": 1,
   "metadata": {
    "colab": {},
    "colab_type": "code",
    "id": "pyHzxwESIeaq"
   },
   "outputs": [
    {
     "name": "stdout",
     "output_type": "stream",
     "text": [
      "Requirement already satisfied: scikit-surprise in /Users/yamamoto/.pyenv/versions/3.7.9/lib/python3.7/site-packages (1.1.1)\n",
      "Requirement already satisfied: joblib>=0.11 in /Users/yamamoto/.pyenv/versions/3.7.9/lib/python3.7/site-packages (from scikit-surprise) (1.0.0)\n",
      "Requirement already satisfied: numpy>=1.11.2 in /Users/yamamoto/.pyenv/versions/3.7.9/lib/python3.7/site-packages (from scikit-surprise) (1.19.4)\n",
      "Requirement already satisfied: scipy>=1.0.0 in /Users/yamamoto/.pyenv/versions/3.7.9/lib/python3.7/site-packages (from scikit-surprise) (1.5.4)\n",
      "Requirement already satisfied: six>=1.10.0 in /Users/yamamoto/.pyenv/versions/3.7.9/lib/python3.7/site-packages (from scikit-surprise) (1.15.0)\n"
     ]
    }
   ],
   "source": [
    "!pip install scikit-surprise"
   ]
  },
  {
   "cell_type": "markdown",
   "metadata": {
    "colab_type": "text",
    "id": "v8qQAuQWeKW6"
   },
   "source": [
    "After downloading the scikit-surprise,  let's load some libraries to use in this practice.\n"
   ]
  },
  {
   "cell_type": "code",
   "execution_count": 2,
   "metadata": {
    "colab": {},
    "colab_type": "code",
    "id": "9T4mrgdGJjuq"
   },
   "outputs": [],
   "source": [
    "import numpy as np\n",
    "from surprise import Dataset\n",
    "from surprise import SVD as SimonMF\n",
    "from surprise import KNNWithMeans as KNN\n",
    "from surprise.model_selection import cross_validate"
   ]
  },
  {
   "cell_type": "markdown",
   "metadata": {
    "colab_type": "text",
    "id": "FoiirFLzcPqV"
   },
   "source": [
    "### Dataset\n",
    "Fortunately, the scikit-surprise library has a function to load several sample dataset including the MovieLens dataset which we used for the last practices.\n",
    "\n",
    "Run the following code on Google Colaboratory to load the MovieLens dataset (**[MovieLens 100K Dataset](https://grouplens.org/datasets/movielens/100k/)**)."
   ]
  },
  {
   "cell_type": "code",
   "execution_count": 3,
   "metadata": {
    "colab": {},
    "colab_type": "code",
    "id": "oBpyFZSZKkNL"
   },
   "outputs": [],
   "source": [
    "dataset_100k = Dataset.load_builtin('ml-100k')\n",
    "\n",
    "# If you want to try a larger dataset, run the following code:\n",
    "# dataset_1m = Dataset.load_builtin('ml-1m')"
   ]
  },
  {
   "cell_type": "markdown",
   "metadata": {
    "colab_type": "text",
    "id": "HtyWN137Lruh"
   },
   "source": [
    "## Prediction by using sckit-surprise\n",
    "\n",
    "Let's use the **scikit-surprise** library to predict rating scores.\n",
    "Here, we try to predict rating scores by using **user-based collaborative filtering** algorithm.\n",
    "\n",
    "At first, we create an instance to use user-based CF algorithm as below."
   ]
  },
  {
   "cell_type": "code",
   "execution_count": 4,
   "metadata": {
    "colab": {},
    "colab_type": "code",
    "id": "PmZ5Guj1MXBy"
   },
   "outputs": [],
   "source": [
    "ubcf = KNN(k=10, sim_options={'user_based': True, 'name': 'pearson'})"
   ]
  },
  {
   "cell_type": "markdown",
   "metadata": {
    "colab_type": "text",
    "id": "VZiLvtkiMWP6"
   },
   "source": [
    "In the above code, we set a threshold for k-nearest neighbors to 10 and select pearson correlation coefficient as a similarity measure.\n",
    "\n",
    "Let's use this instance to predict the rating score of the 1st user for the 1st item in the dataset.\n",
    "For that, run the following code."
   ]
  },
  {
   "cell_type": "code",
   "execution_count": 5,
   "metadata": {
    "colab": {},
    "colab_type": "code",
    "id": "fdMrk-GeNVDs"
   },
   "outputs": [
    {
     "name": "stdout",
     "output_type": "stream",
     "text": [
      "Computing the pearson similarity matrix...\n",
      "Done computing similarity matrix.\n",
      "predicted score =  4.392863701697205\n"
     ]
    }
   ],
   "source": [
    "# All data in the dataset is used\n",
    "trainset = dataset_100k.build_full_trainset()\n",
    "ubcf.fit(trainset)\n",
    "\n",
    "\n",
    "# Predict the 1st user's rating score for the 1st item\n",
    "predicted_score = ubcf.predict(uid='1', iid='1', verbose=False)\n",
    "print(\"predicted score = \", predicted_score.est)"
   ]
  },
  {
   "cell_type": "markdown",
   "metadata": {
    "colab_type": "text",
    "id": "CvAPT_MymQR3"
   },
   "source": [
    "## Comparison between several recommendation algorithms\n",
    "\n",
    "The objective of this practice is to compare the algorithms which we learned in the lecture. \n",
    "The target algorithms are:\n",
    "* User-based collaborative filtering\n",
    "* Item-based collaborative filtering\n",
    "* Simon Funk's matrix factorization\n",
    "\n",
    "How do we evaluate and compare the performance of these algorithms?\n",
    "Don't worry about that. I have prepared a function to evaluation the performance of algorithms below (the function name is **evaluate_mean_absolute_error**).\n",
    "The evaluation metric is **Mean Absolute Error (MAE)**, which capture the difference between real values and predicted values. The definition of MAE is below:\n",
    "\n",
    "$MAE = \\frac{1}{R} \\sum_{r_{ui} \\in R}|r_{ui} - \\hat{r}_{ui}|$\n",
    "\n",
    "Here, $R$ is a set of rating scores. $r_{ui}$ is the actual rating score of user $u$ for item $i$. $\\hat{r}_{ui}$ is the predicted rating score of user $u$ for item $i$.\n",
    "Intuitively, *MAE* value means how large the gap between actual values and predicted values on average.\n",
    "\n",
    "We use a cross-validation techqunique in the function **evaluate_mean_absolute_error**.\n",
    "Cross-validation is a common evaluation procedure in fhe field of machine learning.\n",
    "The next subsection is about cross-validation. If you are familiar with cross-validation or aren't interested in it, please skip it.\n"
   ]
  },
  {
   "cell_type": "code",
   "execution_count": 6,
   "metadata": {
    "colab": {},
    "colab_type": "code",
    "id": "_iQrN20kah8Y"
   },
   "outputs": [],
   "source": [
    "def evaluate_mean_absolute_error(algorithm, dataset):\n",
    "    result = cross_validate(algorithm, dataset,\n",
    "                            measures=['MAE', 'RMSE'], cv=5,\n",
    "                            n_jobs=1, verbose=False)\n",
    "    mean_average_error = np.mean(result['test_mae'])\n",
    "    return mean_average_error"
   ]
  },
  {
   "cell_type": "markdown",
   "metadata": {
    "colab_type": "text",
    "id": "XVotlZtYKSOn"
   },
   "source": [
    "### Cross Validation\n",
    "The following describes cross-validation (from [A Gentle Introduction to k-fold Cross-Validation](https://machinelearningmastery.com/k-fold-cross-validation/)):\n",
    "\n",
    "> Cross-validation is a resampling procedure used to evaluate machine learning models on a limited data sample. The procedure has a single parameter called k that refers to the number of groups that a given data sample is to be split into. \n",
    "\n",
    "> Cross-validation is primarily used in applied machine learning to estimate the skill of a machine learning model on unseen data. That is, to use a limited sample in order to estimate how the model is expected to perform in general when used to make predictions on data not used during the training of the model.\n",
    "\n",
    "> The general procedure is as follows: \n",
    "1. Shuffle the dataset randomly. \n",
    "2. Split the dataset into k groups\n",
    "3. For each unique group:\n",
    "   1. Take the group as a hold out or test data set\n",
    "   2. Take the remaining groups as a training data set\n",
    "   3. Fit a model on the training set and evaluate it on the test set\n",
    "   4. Retain the evaluation score and discard the model\n",
    "4. Summarize the skill of the model using the sample of model evaluation scores"
   ]
  },
  {
   "cell_type": "markdown",
   "metadata": {
    "colab_type": "text",
    "id": "T1ATnoLFW54u"
   },
   "source": [
    "### User-based Collaborative Filtering (CF)\n",
    "\n",
    "Let's evaluate the user-based CF for the MovieLens dataset.\n",
    "The following code provides us with the MAE value of the user-based CF."
   ]
  },
  {
   "cell_type": "code",
   "execution_count": 7,
   "metadata": {
    "colab": {},
    "colab_type": "code",
    "id": "qQNiODe1Y-LG"
   },
   "outputs": [
    {
     "name": "stdout",
     "output_type": "stream",
     "text": [
      "Mean absolute error =  0.7675940474526761\n"
     ]
    }
   ],
   "source": [
    "# Create an instance for the user-based CF\n",
    "## A threshold for K-nearest neighbors = 10\n",
    "ubcf = KNN(k=10, sim_options={'user_based': True, 'name': 'pearson'},\n",
    "           verbose=False)\n",
    "\n",
    "# Evaluation\n",
    "mean_absolute_error = evaluate_mean_absolute_error(ubcf, dataset_100k)\n",
    "print(\"Mean absolute error = \", mean_absolute_error)"
   ]
  },
  {
   "cell_type": "markdown",
   "metadata": {
    "colab_type": "text",
    "id": "2tNL85JCYSaH"
   },
   "source": [
    "### Item-based Collaborative Filtering (CF)\n",
    "\n",
    "Let's evaluate the item-based CF for the MovieLens dataset.\n",
    "The following code provides us with the MAE value of the user-based CF."
   ]
  },
  {
   "cell_type": "code",
   "execution_count": 8,
   "metadata": {
    "colab": {},
    "colab_type": "code",
    "id": "xRjgxHhSYzDa"
   },
   "outputs": [
    {
     "name": "stdout",
     "output_type": "stream",
     "text": [
      "Mean absolute error =  0.7708191754780656\n"
     ]
    }
   ],
   "source": [
    "# Create an instance for the item-based CF\n",
    "## A threshold for K-nearest neighbors = 10\n",
    "## The cosine similarity is used as a similarity metric\n",
    "ibcf = KNN(k=10, sim_options={'user_based': False, 'name': 'cosine'},\n",
    "           verbose=False)\n",
    "\n",
    "# Evaluation\n",
    "mean_absolute_error = evaluate_mean_absolute_error(ibcf, dataset_100k)\n",
    "print(\"Mean absolute error = \", mean_absolute_error)"
   ]
  },
  {
   "cell_type": "markdown",
   "metadata": {
    "colab_type": "text",
    "id": "Kl6b9Q8YWse9"
   },
   "source": [
    "### Simon Funk's Matrix Factorization (MF)\n",
    "\n",
    "Finally, let's evaluate Simon Funk's matrix factorization for the MovieLens dataset.\n",
    "The following code provides us with the MAE value of Funk's MF."
   ]
  },
  {
   "cell_type": "code",
   "execution_count": 9,
   "metadata": {
    "colab": {},
    "colab_type": "code",
    "id": "WX5c4PUlR8MC"
   },
   "outputs": [
    {
     "name": "stdout",
     "output_type": "stream",
     "text": [
      "Mean absolute error =  0.7377233036075014\n"
     ]
    }
   ],
   "source": [
    "# Create an instance for the Simon Funk's MF\n",
    "## The number of latent factors is set to 100\n",
    "simon_mf = SimonMF(n_factors=100)\n",
    "\n",
    "# Evaluation\n",
    "mean_absolute_error = evaluate_mean_absolute_error(simon_mf, dataset_100k)\n",
    "print(\"Mean absolute error = \", mean_absolute_error)"
   ]
  }
 ],
 "metadata": {
  "colab": {
   "collapsed_sections": [],
   "name": "3-matrix-factorization.ipynb",
   "provenance": [],
   "version": "0.3.2"
  },
  "kernelspec": {
   "display_name": "Python 3",
   "language": "python",
   "name": "python3"
  },
  "language_info": {
   "codemirror_mode": {
    "name": "ipython",
    "version": 3
   },
   "file_extension": ".py",
   "mimetype": "text/x-python",
   "name": "python",
   "nbconvert_exporter": "python",
   "pygments_lexer": "ipython3",
   "version": "3.7.9"
  }
 },
 "nbformat": 4,
 "nbformat_minor": 4
}
