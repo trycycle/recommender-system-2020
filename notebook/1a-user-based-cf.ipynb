{
 "cells": [
  {
   "cell_type": "markdown",
   "metadata": {
    "colab_type": "text",
    "id": "W8jSPrON7-qE"
   },
   "source": [
    "# User-based Collaborative Filtering"
   ]
  },
  {
   "cell_type": "markdown",
   "metadata": {
    "colab_type": "text",
    "id": "FSbdljT87-qn"
   },
   "source": [
    "## Assignment 1\n",
    "In this assignment, we apply the user-based collaborative filtering for one of famous recommender system datasets, [MovieLens dataset](https://grouplens.org/datasets/movielens/).\n",
    "\n",
    "The MovieLens dataset is a set of rating scores for a lot of movies.\n",
    "In the dataset, each rating score ranges from 1 to 5.\n",
    "In this assignment, we use the **MovieLens Latest Datasets (small)**, one of the MovieLens datasets.\n",
    "The MovieLens Latest Datasets (small) data file is located [here](https://github.com/trycycle/recommender-system-2020/raw/main/data/ml-latest-small-transformed/ratings.csv).\n",
    "In each row of the file, a userID, a movieID, a rating score, and a timestamp are separated by commas.\n",
    "\n",
    "Complete the following assignments."
   ]
  },
  {
   "cell_type": "markdown",
   "metadata": {
    "colab_type": "text",
    "id": "esJZBPUu7-qo"
   },
   "source": [
    "### Assignment 1-1\n",
    "The following `get_movie_lens_datatrame` function enables us to download \"the MovieLens Latest Datasets (small) data file\" and convert the data to a pandas dataframe.\n",
    "Load the MovieLens data into the variable `ml_df` using the following `get_movie_lens_datatrame` function.\n"
   ]
  },
  {
   "cell_type": "code",
   "execution_count": 1,
   "metadata": {
    "colab": {},
    "colab_type": "code",
    "id": "795NDGhW7-qK"
   },
   "outputs": [],
   "source": [
    "import numpy as np\n",
    "import pandas as pd "
   ]
  },
  {
   "cell_type": "code",
   "execution_count": 2,
   "metadata": {
    "colab": {},
    "colab_type": "code",
    "id": "oCndAG9d7-qo"
   },
   "outputs": [],
   "source": [
    "def get_movie_lens_dataframe():\n",
    "    user_num = 610\n",
    "    movie_num = 9724\n",
    "    df = pd.read_csv(\"https://github.com/trycycle/recommender-system-2020/raw/main/data/ml-latest-small-transformed/ratings.csv\")\n",
    "\n",
    "    rating_matrix = np.zeros((user_num, movie_num))\n",
    "    rating_matrix[:, :] = np.nan\n",
    "\n",
    "    for _, row in df.iterrows():\n",
    "        rating_matrix[int(row['userId'])-1, int(row['movieId'])-1] = row['rating']\n",
    "    \n",
    "    rating_df = pd.DataFrame(rating_matrix)\n",
    "    rating_df.columns = ['item{}'.format(i) for i in range(movie_num)]\n",
    "    rating_df.index = ['user{}'.format(i) for i in range(user_num)]\n",
    "    return rating_df"
   ]
  },
  {
   "cell_type": "code",
   "execution_count": 3,
   "metadata": {},
   "outputs": [],
   "source": [
    "ml_df = get_movie_lens_dataframe()"
   ]
  },
  {
   "cell_type": "markdown",
   "metadata": {
    "colab_type": "text",
    "id": "czhSgqVJ7-qq"
   },
   "source": [
    "### Assignment 1-2\n",
    "The `ml_df` loaded in the assignment 1-1 contains the rating scores of user 413.\n",
    "According to the `ml_df`, user 413 did not rate the following movie ids:\n",
    "\n",
    "```\n",
    "unrated_movies = [5, 76, 83, 242, 319, 351, 391, 473, 492, 597, 618, 634, 659, 733, 779, 1105, 1236, 1642, 1804, 2315]\n",
    "```\n",
    "\n",
    "By using a user-based collaborative filtering technique and decide which movie to recommend for user 413.\n",
    "Then, make a list of recommended movies' ids and their predicted rating scores in descending order. \n",
    "Here, nearest neighbor users are defined as the users with top-k high user similarity.\n",
    "Also, the threshold k for selecting nearest neighbors should be 20.\n",
    "\n",
    "(Hint) use the function `ubcf.predict_rating_with_k_nn`.\n"
   ]
  },
  {
   "cell_type": "code",
   "execution_count": null,
   "metadata": {},
   "outputs": [],
   "source": [
    "!wget -P lib https://raw.githubusercontent.com/trycycle/recommender-system-2020/main/lib/cf.py"
   ]
  },
  {
   "cell_type": "code",
   "execution_count": 5,
   "metadata": {
    "colab": {
     "base_uri": "https://localhost:8080/",
     "height": 68
    },
    "colab_type": "code",
    "id": "dTUY8Lnj7-qk",
    "outputId": "1361d036-00e0-4d2c-b099-e5367ac9a19b"
   },
   "outputs": [],
   "source": [
    "# Import the ItemBasedCF class\n",
    "from lib.cf import UserBasedCF \n",
    "\n",
    "ubcf = UserBasedCF() # Create a instance of the UserBasedCF class\n",
    "\n",
    "unrated_movies = [5, 76, 83, 242, 319, 351, 391, 473, 492, 597, 618, 634, 659, 733, 779, 1105, 1236, 1642, 1804, 2315]"
   ]
  },
  {
   "cell_type": "code",
   "execution_count": 6,
   "metadata": {},
   "outputs": [
    {
     "name": "stdout",
     "output_type": "stream",
     "text": [
      "1105 \t 4.27500757499568\n",
      "351 \t 4.158368047927345\n",
      "76 \t 4.149126911447925\n",
      "83 \t 3.9514898422195834\n",
      "391 \t 3.9502611066953994\n",
      "242 \t 3.7420145899657937\n",
      "779 \t 3.694275892230307\n",
      "2315 \t 3.6097115304316896\n",
      "319 \t 3.1532412588896217\n",
      "473 \t 3.0222303792614635\n",
      "5 \t 2.948289328605953\n",
      "597 \t 2.8903441124503204\n",
      "618 \t 2.881144122122124\n",
      "659 \t 2.8479462842268957\n",
      "1236 \t 2.8463868427674095\n",
      "492 \t 2.5963242360259864\n",
      "1804 \t 2.44234669105025\n",
      "1642 \t 2.3657659395438158\n",
      "634 \t 1.9822581891575723\n",
      "733 \t 1.8975797324892267\n"
     ]
    }
   ],
   "source": [
    "scores = {}\n",
    "for unrated_movie in unrated_movies:\n",
    "    score = ubcf.predict_rating_with_k_nn(ml_df, target_user=413, target_item=unrated_movie, k=20)\n",
    "    scores[unrated_movie] = score\n",
    "    \n",
    "for movie_id, score in sorted(scores.items(), key=lambda x:-x[1]):\n",
    "    print(movie_id, \"\\t\", score)"
   ]
  },
  {
   "cell_type": "markdown",
   "metadata": {
    "colab_type": "text",
    "id": "igej6u757-qq"
   },
   "source": [
    "### Assignment 1-3\n",
    "For the same task in the assignment 1-2, apply a user-based collaborative filtering **where a threshold is set for user similarity**.\n",
    "A threshold for the similarity should be 0.5.\n",
    "\n",
    "(Hint) use the function `ubcf.predict_rating`."
   ]
  },
  {
   "cell_type": "code",
   "execution_count": 7,
   "metadata": {},
   "outputs": [
    {
     "name": "stdout",
     "output_type": "stream",
     "text": [
      "1105 \t 4.731987552591785\n",
      "76 \t 4.174370992650663\n",
      "83 \t 4.1355762853680975\n",
      "391 \t 4.1297855685058265\n",
      "779 \t 4.025916564128748\n",
      "2315 \t 3.6369641537837296\n",
      "242 \t 3.4566317835841103\n",
      "351 \t 3.4147595539643234\n",
      "319 \t 3.2148393485104507\n",
      "5 \t 3.07269070356819\n",
      "659 \t 3.0700139096038175\n",
      "473 \t 3.0062880057940644\n",
      "618 \t 2.9819683488665225\n",
      "492 \t 2.6979284244540924\n",
      "597 \t 2.4910918224917995\n",
      "1236 \t 2.3049199420937656\n",
      "1642 \t 1.8010538077617115\n",
      "634 \t 1.5344602011033874\n",
      "1804 \t 1.4147595539643234\n",
      "733 \t 0.9495186135370406\n"
     ]
    }
   ],
   "source": [
    "scores = {}\n",
    "for unrated_movie in unrated_movies:\n",
    "    score = ubcf.predict_rating(ml_df, target_user=413, target_item=unrated_movie, sim_threshold=0.5)\n",
    "    scores[unrated_movie] = score\n",
    "    \n",
    "for movie_id, score in sorted(scores.items(), key=lambda x:-x[1]):\n",
    "    print(movie_id, \"\\t\", score)"
   ]
  }
 ],
 "metadata": {
  "colab": {
   "collapsed_sections": [],
   "name": "Copy of 1ce-user-based-cf.ipynb",
   "provenance": [
    {
     "file_id": "1o36FfwkVC2woFqq8klv01_-9IqfR7KCQ",
     "timestamp": 1570095665861
    }
   ]
  },
  "kernelspec": {
   "display_name": "Python 3",
   "language": "python",
   "name": "python3"
  },
  "language_info": {
   "codemirror_mode": {
    "name": "ipython",
    "version": 3
   },
   "file_extension": ".py",
   "mimetype": "text/x-python",
   "name": "python",
   "nbconvert_exporter": "python",
   "pygments_lexer": "ipython3",
   "version": "3.8.5"
  }
 },
 "nbformat": 4,
 "nbformat_minor": 4
}
