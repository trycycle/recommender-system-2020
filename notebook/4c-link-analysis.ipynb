{
 "cells": [
  {
   "cell_type": "markdown",
   "metadata": {
    "colab_type": "text",
    "id": "YwtxAfsfqKNZ"
   },
   "source": [
    "# Link Analysis\n",
    "## Preparation\n",
    "\n",
    "In this practice, we use the [NetworkX](https://networkx.github.io/documentation/stable/index.html), a Python library to handle graph (network) data. Let's run the following codes to load the NetworkX and several libraries to handle and visualize graph data."
   ]
  },
  {
   "cell_type": "code",
   "execution_count": 1,
   "metadata": {
    "colab": {},
    "colab_type": "code",
    "id": "T92o0s9NWia7"
   },
   "outputs": [],
   "source": [
    "import networkx as nx\n",
    "import matplotlib.pyplot as plt # for visualizing data\n",
    "import numpy as np # for matrix computation"
   ]
  },
  {
   "cell_type": "markdown",
   "metadata": {
    "colab_type": "text",
    "id": "myesRIqNrLX5"
   },
   "source": [
    "## Implement PageRank\n",
    "\n",
    "To implement the PageRank algorithm, let's prepare a small graph. By using NetworkX, we can create and visualize graph data.\n",
    "In NetworkX, you first should create an empty graph. After that, you can build a graph by adding nodes and edges to the graph.\n",
    "\n",
    "Let's run the following code to create a toy graph G."
   ]
  },
  {
   "cell_type": "code",
   "execution_count": 2,
   "metadata": {
    "colab": {
     "base_uri": "https://localhost:8080/",
     "height": 319
    },
    "colab_type": "code",
    "id": "SPdvoSS9YHEs",
    "outputId": "849691aa-2724-43c5-96da-f64b2a01a446"
   },
   "outputs": [
    {
     "data": {
      "image/png": "[encoded data removed]",
      "text/plain": [
       "<Figure size 432x288 with 1 Axes>"
      ]
     },
     "metadata": {},
     "output_type": "display_data"
    }
   ],
   "source": [
    "# Initialize a directed graph\n",
    "G = nx.DiGraph()\n",
    "\n",
    "# Add edges into graph G.\n",
    "# Pair (X, Y) means that node X is connecting to node Y.\n",
    "G = nx.DiGraph()\n",
    "G.add_edges_from([('A', 'B'), ('A', 'C'),\n",
    "                  ('B', 'A'),\n",
    "                  ('C', 'B')])\n",
    "\n",
    "pos = nx.spring_layout(G) # setting to draw a graph in on spring layout\n",
    "nx.draw(G, pos, with_labels=True, node_size=500, node_color=\"y\")\n",
    "plt.show()"
   ]
  },
  {
   "cell_type": "markdown",
   "metadata": {
    "colab_type": "text",
    "id": "mg58p3LPtwq0"
   },
   "source": [
    "To apply the PageRank algorithm to a graph, we need transition matrix $M$. As I explained in my lecture, transition matrices are created on the assumption that a surfer randomly chooses one of links in a webpage to move to another webpage (with equal probability).\n",
    "\n",
    "I have prepared a function to extract transition matrix $M$ from a given graph. The function is defined below. Run the below code to load the function."
   ]
  },
  {
   "cell_type": "code",
   "execution_count": 3,
   "metadata": {
    "colab": {},
    "colab_type": "code",
    "id": "9ftTyCaXuWzg"
   },
   "outputs": [],
   "source": [
    "def get_transition_matrix(G):\n",
    "    _M = nx.adjacency_matrix(G, nodelist=sorted(G.nodes()))\n",
    "    M = _M.todense().T / _M.todense().T.sum(axis=0)\n",
    "    M[np.isnan(M)] = 0\n",
    "    return M"
   ]
  },
  {
   "cell_type": "markdown",
   "metadata": {
    "colab_type": "text",
    "id": "IibYVDMNunoF"
   },
   "source": [
    "Let's use this function to extract transition matrix $M$ from the above graph. Run the following code."
   ]
  },
  {
   "cell_type": "code",
   "execution_count": 4,
   "metadata": {
    "colab": {
     "base_uri": "https://localhost:8080/",
     "height": 69
    },
    "colab_type": "code",
    "id": "iEPIO-vUuwy7",
    "outputId": "8d9cd552-ff6d-43b6-f403-c0cb8910d562"
   },
   "outputs": [
    {
     "data": {
      "text/plain": [
       "matrix([[0. , 1. , 0. ],\n",
       "        [0.5, 0. , 1. ],\n",
       "        [0.5, 0. , 0. ]])"
      ]
     },
     "execution_count": 4,
     "metadata": {},
     "output_type": "execute_result"
    }
   ],
   "source": [
    "M = get_transition_matrix(G)\n",
    "M"
   ]
  },
  {
   "cell_type": "markdown",
   "metadata": {
    "colab_type": "text",
    "id": "LpZw-5WTvGV2"
   },
   "source": [
    "The obtained transition matrix $M$ indicates that node A has two out-links (B and C) and a random surfer will choose one of the two links with 1/2 probability.\n",
    "\n",
    "To apply the PageRank algorithm to graph $G$, we need to prepare a random jump vector $d$ as well as a transition matrix $M$. Let's prepare it.\n",
    "\n",
    "Remember that in normal PageRank, a surfer sometimes **randomly** jump to each of webpages in a graph without using links. That means that each element (probability) in a random jump vector is equal. Based on this, we can obtain a random jump vector $d$ with the following code. Run the code to load the function `get_random_jump_vector`."
   ]
  },
  {
   "cell_type": "code",
   "execution_count": 5,
   "metadata": {
    "colab": {},
    "colab_type": "code",
    "id": "2JMUFeoy0Of-"
   },
   "outputs": [],
   "source": [
    "def get_random_jump_vector(G):\n",
    "    node_num = len(G)\n",
    "    d = np.ones((node_num, 1)) / node_num\n",
    "    return d"
   ]
  },
  {
   "cell_type": "markdown",
   "metadata": {
    "colab_type": "text",
    "id": "15iyagm-1IM5"
   },
   "source": [
    "Let's use this function to get a random jump vector from graph $G$."
   ]
  },
  {
   "cell_type": "code",
   "execution_count": 6,
   "metadata": {
    "colab": {
     "base_uri": "https://localhost:8080/",
     "height": 69
    },
    "colab_type": "code",
    "id": "DWT4F31_0_GV",
    "outputId": "7d1950fc-33fe-46de-de29-e0e8314bd9ca"
   },
   "outputs": [
    {
     "data": {
      "text/plain": [
       "array([[0.33333333],\n",
       "       [0.33333333],\n",
       "       [0.33333333]])"
      ]
     },
     "execution_count": 6,
     "metadata": {},
     "output_type": "execute_result"
    }
   ],
   "source": [
    "d = get_random_jump_vector(G)\n",
    "d"
   ]
  },
  {
   "cell_type": "markdown",
   "metadata": {
    "colab_type": "text",
    "id": "ZIgbhdvI1kQM"
   },
   "source": [
    "Now we are ready to implement the PageRank algorithm! \n",
    "\n",
    "As I explained in my lecture, we compute PageRank scores of nodes in graph $G$ by iteratively using the following formula:\n",
    "\n",
    "$p_n = \\alpha M p_{n-1} + (1 - \\alpha)d$\n",
    "\n",
    "Here, $M$ is a transition matrix, $d$ id a random jump vector $d$, and $\\alpha$ is a parameter to control the random surfer model (usually $\\alpha$ is set to 0.85). $p_n$ means the probabilities of radom surfers to stay after n-th transition. If $p_n$ is converged (there is no difference between $p_n$ and $p_{n-1}$), the PageRank algorithm stops and we use the final $p_n$ scores as PageRank scores.\n",
    "\n",
    "Below, I have prepared the function to compute PageRank (default $\\alpha$ parameter is 0.85). Load the following code for PageRank computation."
   ]
  },
  {
   "cell_type": "code",
   "execution_count": 7,
   "metadata": {
    "colab": {},
    "colab_type": "code",
    "id": "aLV2vxxJ9lua"
   },
   "outputs": [],
   "source": [
    "def compute_pagerank(M, d, alpha=0.85, eps=1e-6, iter_limit=50):\n",
    "    \"\"\"\n",
    "    M: transition matrix\n",
    "    d: random jump vector\n",
    "    alpha: a parameter to control the random surfer model\n",
    "    eps: delta for convergence\n",
    "    iter_count: iteration count\n",
    "    \"\"\"\n",
    "    n = M.shape[0] # the number of nodes in a graph\n",
    "    p = np.zeros((n, 1)) # zero vector whose length is n\n",
    "    p[0,0] = 1 # initial PageRank scores. In this vector, only the first element is one. (i.e., [1, 0, 0, 0, ......, 0])\n",
    "   \n",
    "    for iter_count in range(iter_limit):\n",
    "        p_next = alpha * np.dot(M, p) + (1 - alpha) * d\n",
    "        if np.linalg.norm(p_next - p, ord=2) <= eps:\n",
    "            p = p_next\n",
    "            break\n",
    "        else:\n",
    "            p = p_next\n",
    "    \n",
    "    return p"
   ]
  },
  {
   "cell_type": "markdown",
   "metadata": {
    "colab_type": "text",
    "id": "UNNepab6ClJr"
   },
   "source": [
    "Let's use this function to run the PageRank algorithm to the toy graph $G$. Run the following code."
   ]
  },
  {
   "cell_type": "code",
   "execution_count": 8,
   "metadata": {
    "colab": {
     "base_uri": "https://localhost:8080/",
     "height": 69
    },
    "colab_type": "code",
    "id": "Zu0CCxTeB9ur",
    "outputId": "164f13ae-cda7-44e4-eca4-1849d7aadfc3"
   },
   "outputs": [
    {
     "data": {
      "text/plain": [
       "matrix([[0.38778993],\n",
       "        [0.39739961],\n",
       "        [0.21481046]])"
      ]
     },
     "execution_count": 8,
     "metadata": {},
     "output_type": "execute_result"
    }
   ],
   "source": [
    "compute_pagerank(M, d, alpha=0.85, eps=1e-6, iter_limit=50)"
   ]
  },
  {
   "cell_type": "markdown",
   "metadata": {
    "colab_type": "text",
    "id": "CBfqvZtRDAnH"
   },
   "source": [
    "We have obtained the PageRank scores! The results indicate that the second node \"B\" has the largest PageRank score. Node B has many in-links. Therefore, we have an intuition that B can has a high PageRank score. This intutition corresponds to the computational results."
   ]
  },
  {
   "cell_type": "markdown",
   "metadata": {
    "colab_type": "text",
    "id": "JxmgqgOmEDw5"
   },
   "source": [
    "## Assignment"
   ]
  },
  {
   "cell_type": "markdown",
   "metadata": {
    "colab_type": "text",
    "id": "hZslcUh4EF4f"
   },
   "source": [
    "### Assignment 4-1\n",
    "Given the following graph data, apply the PageRank algorithm to the graph."
   ]
  },
  {
   "cell_type": "code",
   "execution_count": 9,
   "metadata": {
    "colab": {
     "base_uri": "https://localhost:8080/",
     "height": 319
    },
    "colab_type": "code",
    "id": "71kB6D7kERRw",
    "outputId": "945e851a-0eb0-4329-c190-08c5c6584dde"
   },
   "outputs": [
    {
     "data": {
      "image/png": "[encoded data removed]",
      "text/plain": [
       "<Figure size 432x288 with 1 Axes>"
      ]
     },
     "metadata": {},
     "output_type": "display_data"
    }
   ],
   "source": [
    "G = nx.DiGraph()\n",
    "G.add_edges_from([('A', 'C'), ('A', 'D'), ('A', 'E'), ('A', 'G'),\n",
    "                  ('B', 'A'), ('B', 'D'),\n",
    "                  ('C', 'G'),\n",
    "                  ('D', 'B'), ('D', 'C'), ('D', 'F'),\n",
    "                  ('E', 'C'), ('E', 'F'),\n",
    "                  ('F', 'C'),\n",
    "                  ('G', 'A')])\n",
    "\n",
    "pos = nx.spring_layout(G)\n",
    "nx.draw(G, pos, with_labels=True, node_size=500, node_color=\"y\")\n",
    "plt.show()"
   ]
  },
  {
   "cell_type": "markdown",
   "metadata": {
    "colab_type": "text",
    "id": "x00hYcwcEmXF"
   },
   "source": [
    "### Assignment 4-2\n",
    "The PageRank algorithm iteratively updates $p_n$ by using the following formula. When $p_n$ is converged, the PageRank algorithm stops and the final $p_n$ scores are used as PageRank scores.\n",
    "\n",
    "$p_n = \\alpha M p_{n-1} + (1 - \\alpha)d$\n",
    "\n",
    "Modify the above-implemented function to run the PageRank algorithm and display how $p_n$ scores change until the scores are converged."
   ]
  },
  {
   "cell_type": "markdown",
   "metadata": {
    "colab_type": "text",
    "id": "2u_MNiHdh_An"
   },
   "source": [
    "### Assignment 4-3\n",
    "In my PageRank implementation, the initial PageRank scores $p_0$ are set with $[1,0,0,....,0]$. If the initial PageRank scores are set with different values, what will happen to the final PageRank scores? Try to set $p_0$ with different values and check how the final PageRank scores will change."
   ]
  },
  {
   "cell_type": "markdown",
   "metadata": {},
   "source": [
    "### Assignment 4-4"
   ]
  },
  {
   "cell_type": "markdown",
   "metadata": {},
   "source": [
    "Run the following codes to download data for assignment 4-5. The downloaded data is public in [Network Repository](http://networkrepository.com/fb-pages-artist.php)."
   ]
  },
  {
   "cell_type": "code",
   "execution_count": null,
   "metadata": {},
   "outputs": [],
   "source": [
    "!wget http://nrvis.com/download/data/soc/fb-pages-artist.zip\n",
    "!unzip fb-pages-artist.zip"
   ]
  },
  {
   "cell_type": "markdown",
   "metadata": {},
   "source": [
    "### Assignment 4-5"
   ]
  },
  {
   "cell_type": "markdown",
   "metadata": {},
   "source": [
    "The dataset which you download in assignment 4-4 contains two kinds of data:\n",
    "1. Node data about arists (artist pages) whom Facebook users liked\n",
    "2. Edge data about mutual likes among artists\n",
    "\n",
    "For example, the node data contains \"The Beatles\" node and the node means that a user liked the Facebook page about \"The Beatles\". Also, the edge data contains an edge between \"The Beatles\" and \"The Rolling Stones\". The edge means that a user liked both the pages about \"The Beatles\" and \"The Rollong Stones\". In other words, edges in this dataset indicate artist connection on user preference.\n",
    "\n",
    "Construct a artist preference graph by using the downloaded dataset. Apply the PageRank to the graph to **find the top-30 likable (important) artists.**"
   ]
  },
  {
   "cell_type": "markdown",
   "metadata": {},
   "source": [
    "#### Note 1\n",
    "The following code will be useful to load nodes and edges from the downloaded dataset."
   ]
  },
  {
   "cell_type": "code",
   "execution_count": null,
   "metadata": {
    "colab": {},
    "colab_type": "code",
    "id": "9t5fEYeJ3Qgh"
   },
   "outputs": [],
   "source": [
    "import pandas as pd\n",
    "\n",
    "# Load node dataset by using pandas library\n",
    "artist_df = pd.read_csv('fb-pages-artist.nodes').drop(\"id\", axis=1)\n",
    "\n",
    "# Store the index information about artist ID and artist name\n",
    "id2artist = {}\n",
    "for _, row in artist_df.iterrows():\n",
    "    name = row['name']\n",
    "    id = row['new_id']\n",
    "    id2artist[id] = name\n",
    "\n",
    "# Load edge dataset into variable edges.\n",
    "edges = []\n",
    "with open('fb-pages-artist.edges') as f:\n",
    "    for line in f:\n",
    "        pair = tuple([int(e) for e in line.rstrip().split(',')])\n",
    "        edges.append(pair)"
   ]
  },
  {
   "cell_type": "markdown",
   "metadata": {},
   "source": [
    "#### Note 2\n",
    "The dataset is large. For fast computation, you should use the ``pagerank`` function which NetworkX library provides. Once you build a graph $G$, you can compute the PageRank scores of the graph by using the following code."
   ]
  },
  {
   "cell_type": "code",
   "execution_count": null,
   "metadata": {},
   "outputs": [],
   "source": [
    "pr_scores = nx.pagerank(G, alpha=0.85)"
   ]
  }
 ],
 "metadata": {
  "colab": {
   "collapsed_sections": [],
   "name": "4c-link-analysis.ipynb",
   "provenance": [],
   "toc_visible": true
  },
  "kernelspec": {
   "display_name": "Python 3",
   "language": "python",
   "name": "python3"
  },
  "language_info": {
   "codemirror_mode": {
    "name": "ipython",
    "version": 3
   },
   "file_extension": ".py",
   "mimetype": "text/x-python",
   "name": "python",
   "nbconvert_exporter": "python",
   "pygments_lexer": "ipython3",
   "version": "3.7.9"
  }
 },
 "nbformat": 4,
 "nbformat_minor": 4
}
