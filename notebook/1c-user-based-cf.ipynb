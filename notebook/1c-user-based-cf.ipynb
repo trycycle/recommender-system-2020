{
 "cells": [
  {
   "cell_type": "markdown",
   "metadata": {
    "colab_type": "text",
    "id": "W8jSPrON7-qE"
   },
   "source": [
    "# User-based Collaborative Filtering\n",
    "In this exercise, we practice **user-based collaborative filtering**, which is a recommendation algorithm focusing on the similarity between users.\n",
    "\n",
    "\n",
    "We use the following Python libraries for the exercise. \n",
    "\n",
    "* numpy、scipy\n",
    "    * Basic libraries for data science\n",
    "* pandas\n",
    "    * A library for efficient calculation of table-type data."
   ]
  },
  {
   "cell_type": "markdown",
   "metadata": {
    "colab_type": "text",
    "id": "e4X1gglN7-qJ"
   },
   "source": [
    "---\n",
    "## Load data for this exercise\n",
    "In this exercise, we apply a collaborative filtering technique to a simple dataset (Alice example) used in the lecture.\n",
    "Before starting the exercise, execute the following commands and load necessary libraries.\n"
   ]
  },
  {
   "cell_type": "code",
   "execution_count": null,
   "metadata": {},
   "outputs": [],
   "source": [
    "from google.colab import drive\n",
    "drive.mount('/content/drive')"
   ]
  },
  {
   "cell_type": "code",
   "execution_count": null,
   "metadata": {
    "colab": {},
    "colab_type": "code",
    "id": "795NDGhW7-qK"
   },
   "outputs": [],
   "source": [
    "import numpy as np # as is for making an alias to a library\n",
    "import pandas as pd \n",
    "from scipy.stats import rankdata"
   ]
  },
  {
   "cell_type": "markdown",
   "metadata": {
    "colab_type": "text",
    "id": "GiswJZsA8L5f"
   },
   "source": [
    "Let's load data now.\n",
    "On Google Colaboratory, we need to mount Google Drive in order to access files on Google Drive. Run the following codes to mount Google Drive."
   ]
  },
  {
   "cell_type": "code",
   "execution_count": null,
   "metadata": {
    "colab": {},
    "colab_type": "code",
    "id": "z5Sx3IAw8dXX"
   },
   "outputs": [],
   "source": [
    "from google.colab import drive\n",
    "drive.mount('/content/drive')"
   ]
  },
  {
   "cell_type": "markdown",
   "metadata": {
    "colab_type": "text",
    "id": "fr9B2aPZ8gE9"
   },
   "source": [
    "Once excuting the above codes, you are prompted to type a temporary code for autentification. After inputting the temporary code, Google Drive will be mounted and you can see ``drive`` directory on a left sidebar's ``Files`` tab.\n",
    "\n",
    "In this exercise, we sometimes access data and codes in ``drive/My Drive/Colab Notebooks/recommender-system-2019`` directory. For covenience, let's set a constant value for the directory's path."
   ]
  },
  {
   "cell_type": "code",
   "execution_count": null,
   "metadata": {
    "colab": {},
    "colab_type": "code",
    "id": "ArzHjiVg9qL9"
   },
   "outputs": [],
   "source": [
    "# Path to a data directory\n",
    "DATADIR = 'drive/My Drive/Colab Notebooks/recommender-system-2019/data/'\n",
    "\n",
    "# Path to a original Python library\n",
    "LIBDIR = 'drive/My Drive/Colab Notebooks/recommender-system-2019/lib/'"
   ]
  },
  {
   "cell_type": "markdown",
   "metadata": {
    "colab_type": "text",
    "id": "bQOaNHJ97-qM"
   },
   "source": [
    "\n",
    "The `pandas` library makes you easily load and access table-like data.\n",
    "Use the `read_csv` method to load data into the variable `df`.\n",
    "\n",
    "The data we will use for this exercise is located in the `data` directory.\n",
    "The filename is **small-example.csv**.\n",
    "In this file, each row means each user's ratings to all items. Each rating score to each item is separated by commas.\n",
    "Please note that the first line is a header."
   ]
  },
  {
   "cell_type": "code",
   "execution_count": null,
   "metadata": {
    "colab": {
     "base_uri": "https://localhost:8080/",
     "height": 235
    },
    "colab_type": "code",
    "id": "HNlrA-bg7-qM",
    "outputId": "9eaf808f-0c75-4e84-f5d9-4d0e6c77dc7b"
   },
   "outputs": [
    {
     "data": {
      "text/html": [
       "<div>\n",
       "<style scoped>\n",
       "    .dataframe tbody tr th:only-of-type {\n",
       "        vertical-align: middle;\n",
       "    }\n",
       "\n",
       "    .dataframe tbody tr th {\n",
       "        vertical-align: top;\n",
       "    }\n",
       "\n",
       "    .dataframe thead th {\n",
       "        text-align: right;\n",
       "    }\n",
       "</style>\n",
       "<table border=\"1\" class=\"dataframe\">\n",
       "  <thead>\n",
       "    <tr style=\"text-align: right;\">\n",
       "      <th></th>\n",
       "      <th>item1</th>\n",
       "      <th>item2</th>\n",
       "      <th>item3</th>\n",
       "      <th>item4</th>\n",
       "      <th>item5</th>\n",
       "    </tr>\n",
       "    <tr>\n",
       "      <th>user</th>\n",
       "      <th></th>\n",
       "      <th></th>\n",
       "      <th></th>\n",
       "      <th></th>\n",
       "      <th></th>\n",
       "    </tr>\n",
       "  </thead>\n",
       "  <tbody>\n",
       "    <tr>\n",
       "      <th>Alice</th>\n",
       "      <td>5</td>\n",
       "      <td>3</td>\n",
       "      <td>4</td>\n",
       "      <td>4</td>\n",
       "      <td>NaN</td>\n",
       "    </tr>\n",
       "    <tr>\n",
       "      <th>user1</th>\n",
       "      <td>3</td>\n",
       "      <td>1</td>\n",
       "      <td>2</td>\n",
       "      <td>3</td>\n",
       "      <td>3.0</td>\n",
       "    </tr>\n",
       "    <tr>\n",
       "      <th>user2</th>\n",
       "      <td>4</td>\n",
       "      <td>3</td>\n",
       "      <td>4</td>\n",
       "      <td>3</td>\n",
       "      <td>5.0</td>\n",
       "    </tr>\n",
       "    <tr>\n",
       "      <th>user3</th>\n",
       "      <td>3</td>\n",
       "      <td>3</td>\n",
       "      <td>1</td>\n",
       "      <td>5</td>\n",
       "      <td>4.0</td>\n",
       "    </tr>\n",
       "    <tr>\n",
       "      <th>user4</th>\n",
       "      <td>1</td>\n",
       "      <td>5</td>\n",
       "      <td>5</td>\n",
       "      <td>2</td>\n",
       "      <td>1.0</td>\n",
       "    </tr>\n",
       "  </tbody>\n",
       "</table>\n",
       "</div>"
      ],
      "text/plain": [
       "       item1  item2  item3  item4  item5\n",
       "user                                    \n",
       "Alice      5      3      4      4    NaN\n",
       "user1      3      1      2      3    3.0\n",
       "user2      4      3      4      3    5.0\n",
       "user3      3      3      1      5    4.0\n",
       "user4      1      5      5      2    1.0"
      ]
     },
     "execution_count": 4,
     "metadata": {
      "tags": []
     },
     "output_type": "execute_result"
    }
   ],
   "source": [
    "# The parameter index_col=0 enables you to set the first column on data as index names\n",
    "df = pd.read_csv(DATADIR + 'small-example.tsv', delimiter='\\t',index_col=0)\n",
    "df"
   ]
  },
  {
   "cell_type": "markdown",
   "metadata": {
    "colab_type": "text",
    "id": "_PDy6RhQ7-qO"
   },
   "source": [
    "Using `read_csv` method of `pandas`, we can load data as a **data frame** object.\n",
    "We can see that each row means each user and each column means each item rating on the variable `df` (the data frame object).\n"
   ]
  },
  {
   "cell_type": "markdown",
   "metadata": {
    "colab_type": "text",
    "id": "msk6ejX57-qP"
   },
   "source": [
    "## Calculation of Pearson correlation coefficient\n",
    "Let's calculate the similarity between users for doing a user-based collaborative filtering.\n",
    "Here, we calculate the **Pearson correlation coefficient** as user similarity.\n",
    "\n",
    "For dataframe objects on `pandas`, the `corr` method is defined to calculate various types of correlation coefficients.\n",
    "The `corr` method enables us to calculate correlation efficient values between row vectors, ignoring NA/null data in the dataframe.\n",
    "Let's use this method to calculate user similarity.\n"
   ]
  },
  {
   "cell_type": "code",
   "execution_count": null,
   "metadata": {
    "colab": {
     "base_uri": "https://localhost:8080/",
     "height": 235
    },
    "colab_type": "code",
    "id": "lqHp4IGP7-qP",
    "outputId": "9907be0b-e217-40c2-e1f5-df2e854940a8"
   },
   "outputs": [
    {
     "data": {
      "text/html": [
       "<div>\n",
       "<style scoped>\n",
       "    .dataframe tbody tr th:only-of-type {\n",
       "        vertical-align: middle;\n",
       "    }\n",
       "\n",
       "    .dataframe tbody tr th {\n",
       "        vertical-align: top;\n",
       "    }\n",
       "\n",
       "    .dataframe thead th {\n",
       "        text-align: right;\n",
       "    }\n",
       "</style>\n",
       "<table border=\"1\" class=\"dataframe\">\n",
       "  <thead>\n",
       "    <tr style=\"text-align: right;\">\n",
       "      <th>user</th>\n",
       "      <th>Alice</th>\n",
       "      <th>user1</th>\n",
       "      <th>user2</th>\n",
       "      <th>user3</th>\n",
       "      <th>user4</th>\n",
       "    </tr>\n",
       "    <tr>\n",
       "      <th>user</th>\n",
       "      <th></th>\n",
       "      <th></th>\n",
       "      <th></th>\n",
       "      <th></th>\n",
       "      <th></th>\n",
       "    </tr>\n",
       "  </thead>\n",
       "  <tbody>\n",
       "    <tr>\n",
       "      <th>Alice</th>\n",
       "      <td>1.000000</td>\n",
       "      <td>0.852803</td>\n",
       "      <td>0.707107</td>\n",
       "      <td>0.000000</td>\n",
       "      <td>-0.792118</td>\n",
       "    </tr>\n",
       "    <tr>\n",
       "      <th>user1</th>\n",
       "      <td>0.852803</td>\n",
       "      <td>1.000000</td>\n",
       "      <td>0.467707</td>\n",
       "      <td>0.489956</td>\n",
       "      <td>-0.900149</td>\n",
       "    </tr>\n",
       "    <tr>\n",
       "      <th>user2</th>\n",
       "      <td>0.707107</td>\n",
       "      <td>0.467707</td>\n",
       "      <td>1.000000</td>\n",
       "      <td>-0.161165</td>\n",
       "      <td>-0.466569</td>\n",
       "    </tr>\n",
       "    <tr>\n",
       "      <th>user3</th>\n",
       "      <td>0.000000</td>\n",
       "      <td>0.489956</td>\n",
       "      <td>-0.161165</td>\n",
       "      <td>1.000000</td>\n",
       "      <td>-0.641503</td>\n",
       "    </tr>\n",
       "    <tr>\n",
       "      <th>user4</th>\n",
       "      <td>-0.792118</td>\n",
       "      <td>-0.900149</td>\n",
       "      <td>-0.466569</td>\n",
       "      <td>-0.641503</td>\n",
       "      <td>1.000000</td>\n",
       "    </tr>\n",
       "  </tbody>\n",
       "</table>\n",
       "</div>"
      ],
      "text/plain": [
       "user      Alice     user1     user2     user3     user4\n",
       "user                                                   \n",
       "Alice  1.000000  0.852803  0.707107  0.000000 -0.792118\n",
       "user1  0.852803  1.000000  0.467707  0.489956 -0.900149\n",
       "user2  0.707107  0.467707  1.000000 -0.161165 -0.466569\n",
       "user3  0.000000  0.489956 -0.161165  1.000000 -0.641503\n",
       "user4 -0.792118 -0.900149 -0.466569 -0.641503  1.000000"
      ]
     },
     "execution_count": 5,
     "metadata": {
      "tags": []
     },
     "output_type": "execute_result"
    }
   ],
   "source": [
    "# T method is for transposing a matrix.\n",
    "# Use the T method for analyzing correlations between users before using the `corr` method.\n",
    "df.T.corr(method='pearson')"
   ]
  },
  {
   "cell_type": "markdown",
   "metadata": {
    "colab_type": "text",
    "id": "YogFxgtx7-qR"
   },
   "source": [
    "We have obtained correlation coefficients between all users.\n",
    "From now, we apply some matrix/vector operation to this similarity matrix for the collaborative filtering.\n",
    "For matrix/vector operation, it is better to transform dataframe objects into matrix objects.\n",
    "For that, we transform the dataframe object about similarity into a `numpy`'s matrix object (**similarity matrix**).\n"
   ]
  },
  {
   "cell_type": "code",
   "execution_count": null,
   "metadata": {
    "colab": {
     "base_uri": "https://localhost:8080/",
     "height": 102
    },
    "colab_type": "code",
    "id": "TVklmOkc7-qR",
    "outputId": "77613461-6cb7-443a-fe99-d8559f90cf4f"
   },
   "outputs": [
    {
     "data": {
      "text/plain": [
       "array([[ 1.        ,  0.85280287,  0.70710678,  0.        , -0.79211803],\n",
       "       [ 0.85280287,  1.        ,  0.46770717,  0.48995593, -0.9001488 ],\n",
       "       [ 0.70710678,  0.46770717,  1.        , -0.16116459, -0.46656947],\n",
       "       [ 0.        ,  0.48995593, -0.16116459,  1.        , -0.6415029 ],\n",
       "       [-0.79211803, -0.9001488 , -0.46656947, -0.6415029 ,  1.        ]])"
      ]
     },
     "execution_count": 6,
     "metadata": {
      "tags": []
     },
     "output_type": "execute_result"
    }
   ],
   "source": [
    "sim_matrix = df.T.corr(method='pearson').values\n",
    "sim_matrix"
   ]
  },
  {
   "cell_type": "markdown",
   "metadata": {
    "colab_type": "text",
    "id": "nAabwbmq7-qT"
   },
   "source": [
    "## Data handling numpy's matrix objects\n",
    "Let's get used to handling numpy matrix objects.\n",
    "We can access elements of matrix objects via various approaches:\n"
   ]
  },
  {
   "cell_type": "code",
   "execution_count": null,
   "metadata": {
    "colab": {
     "base_uri": "https://localhost:8080/",
     "height": 68
    },
    "colab_type": "code",
    "id": "rRvxWuNH7-qT",
    "outputId": "69c8ec25-0420-4c33-cee6-4cde6341831d"
   },
   "outputs": [
    {
     "name": "stdout",
     "output_type": "stream",
     "text": [
      "0th row, 2nd column datum:  0.7071067811865475\n",
      "0th row, 2nd and 3rd columns data (vector):  [0.46770717 0.48995593]\n",
      "0th row, from 2nd to the last columns:  [ 0.85280287  0.70710678  0.         -0.79211803]\n"
     ]
    }
   ],
   "source": [
    "print(\"0th row, 2nd column datum: \", sim_matrix[0, 2])\n",
    "print(\"0th row, 2nd and 3rd columns data (vector): \", sim_matrix[1, [2, 3]])\n",
    "print(\"0th row, from 2nd to the last columns: \", sim_matrix[0, 1:])"
   ]
  },
  {
   "cell_type": "markdown",
   "metadata": {
    "colab_type": "text",
    "id": "1qPpM9iU7-qV"
   },
   "source": [
    "## Predict item rating scores based on user similarity\n",
    "Let's predict the item 5 ($i_5$) of Alice ($u_a$) using the above similarity matrix.\n",
    "The approach for that is below:\n",
    "1. Here, assume that the nearest neighbor users are user 1 and user 2, whose similarity between them and Alice is over 0.7\n",
    "2. Calculate average ratings of the nearest neighbor users\n",
    "3. Calculate the difference scores between the rating scores for item 5 and the average rating scores.\n",
    "4. Predict the rating score of Alice for item 5, using the following equation:\n",
    "\n",
    "\\begin{equation}\n",
    "rating(u_a, i_5) = \\overline{r_{u_a}} + \\frac{\\sum_{u \\in K}sim(u_a, u) \\times (r_{u, i_5} - \\overline{r_u})}{\\sum_{u \\in K}sim(u_a, u)}\n",
    "\\end{equation}\n",
    "\n",
    "Here, $r(u, i)$ is a rating score of user $u$ for item $i$, $\\overline{r_u}$ is user $u$'s average rating score, $sim(u_x, u_y)$ is the similarity score between user $x$ and user $y$."
   ]
  },
  {
   "cell_type": "markdown",
   "metadata": {
    "colab_type": "text",
    "id": "y2HMux6E7-qV"
   },
   "source": [
    "At first, let's obtain the similarity scores between Alice, user 1 and user 2."
   ]
  },
  {
   "cell_type": "code",
   "execution_count": null,
   "metadata": {
    "colab": {
     "base_uri": "https://localhost:8080/",
     "height": 34
    },
    "colab_type": "code",
    "id": "VLwE6HTT7-qW",
    "outputId": "bb7ac372-74f6-4b9e-831a-4de09294f534"
   },
   "outputs": [
    {
     "data": {
      "text/plain": [
       "array([0.85280287, 0.70710678])"
      ]
     },
     "execution_count": 8,
     "metadata": {
      "tags": []
     },
     "output_type": "execute_result"
    }
   ],
   "source": [
    "# In sim_matrix, Alice, user 1, and user 2 are corresponding to column 0, 1, and 2, respectively.\n",
    "sim_vec = sim_matrix[0, [1,2]]\n",
    "sim_vec"
   ]
  },
  {
   "cell_type": "markdown",
   "metadata": {
    "colab_type": "text",
    "id": "V355xzBT7-qY"
   },
   "source": [
    "As seen in the above equation (in the denominator), we need the sum of user similarities to predict rating scores.\n",
    "We can obtain the sum of list elements, by applying the sum function for a list object.\n"
   ]
  },
  {
   "cell_type": "code",
   "execution_count": null,
   "metadata": {
    "colab": {
     "base_uri": "https://localhost:8080/",
     "height": 34
    },
    "colab_type": "code",
    "id": "VCpJZq4V7-qY",
    "outputId": "68fb6feb-14aa-4253-8f6b-fb8d1bad2761"
   },
   "outputs": [
    {
     "data": {
      "text/plain": [
       "1.5599096466089892"
      ]
     },
     "execution_count": 9,
     "metadata": {
      "tags": []
     },
     "output_type": "execute_result"
    }
   ],
   "source": [
    "# Summation of elements in a similarity vector\n",
    "sum(sim_vec)"
   ]
  },
  {
   "cell_type": "markdown",
   "metadata": {
    "colab_type": "text",
    "id": "nuDlrEXq7-qa"
   },
   "source": [
    "For the rating prediction, we need the rating scores for a target item of similar users.\n",
    "For calculating matrix/vector data efficiently, let's transform rating data into a numpy matrix object."
   ]
  },
  {
   "cell_type": "code",
   "execution_count": null,
   "metadata": {
    "colab": {
     "base_uri": "https://localhost:8080/",
     "height": 34
    },
    "colab_type": "code",
    "id": "VjZJ8WCo7-qa",
    "outputId": "18f8c99a-5ea0-4097-8189-7efce8bf23fd"
   },
   "outputs": [
    {
     "data": {
      "text/plain": [
       "array([3., 5.])"
      ]
     },
     "execution_count": 10,
     "metadata": {
      "tags": []
     },
     "output_type": "execute_result"
    }
   ],
   "source": [
    "# Transform a rating dataframe into a matrix object\n",
    "rating_matrix = df.values\n",
    "\n",
    "# Access rating scores of user 1 and user 2 for item 5\n",
    "rating_matrix[[1,2], 4]"
   ]
  },
  {
   "cell_type": "markdown",
   "metadata": {
    "colab_type": "text",
    "id": "X1zbXp0F7-qc"
   },
   "source": [
    "Furthermore, we need the average rating scores of Alice and similar users ($\\overline{r}$).\n",
    "The `pandas` library provides us with a useful method `mean` to calculate average scores of row values (or column values) on dataframes.\n",
    "Fortunately, the method ignores NA/null data on the dataframe in the average calculation process.\n",
    "Let's use it."
   ]
  },
  {
   "cell_type": "code",
   "execution_count": null,
   "metadata": {
    "colab": {
     "base_uri": "https://localhost:8080/",
     "height": 34
    },
    "colab_type": "code",
    "id": "xKHOCiF47-qc",
    "outputId": "265a6169-2a25-4db5-d445-90cab5f71cdd"
   },
   "outputs": [
    {
     "data": {
      "text/plain": [
       "array([2.4, 3.8])"
      ]
     },
     "execution_count": 11,
     "metadata": {
      "tags": []
     },
     "output_type": "execute_result"
    }
   ],
   "source": [
    "# Average rating scores of each user\n",
    "# If we set the parameter axis=1, we can obtain average scores by rows.\n",
    "df.mean(axis=1)\n",
    "\n",
    "# Transform data into a numpy vector object for easy vector calculation\n",
    "mean_vec = df.mean(axis=1).values\n",
    "\n",
    "# Obtain the average rating scores of user 1 and user 2\n",
    "mean_vec[[1, 2]]"
   ]
  },
  {
   "cell_type": "markdown",
   "metadata": {
    "colab_type": "text",
    "id": "WKEjvPP17-qe"
   },
   "source": [
    "Now we are ready to predict Alice's rating score for item 5.\n",
    "Let's calculate it following the below equation.\n",
    "\n",
    "\\begin{equation*}\n",
    "rating(u_a, i_5) = \\overline{r_{u_a}} + \\frac{\\sum_{u \\in K}sim(u_a, u) \\times (r_{u, i_5} - \\overline{r_u})}{\\sum_{u \\in K}sim(u_a, u)}\n",
    "\\end{equation*}"
   ]
  },
  {
   "cell_type": "code",
   "execution_count": null,
   "metadata": {
    "colab": {
     "base_uri": "https://localhost:8080/",
     "height": 34
    },
    "colab_type": "code",
    "id": "YVGX8GWy7-qe",
    "outputId": "4f90f580-c78d-4c3b-9f47-06412ba22510"
   },
   "outputs": [
    {
     "data": {
      "text/plain": [
       "4.871979899370592"
      ]
     },
     "execution_count": 12,
     "metadata": {
      "tags": []
     },
     "output_type": "execute_result"
    }
   ],
   "source": [
    "# np.dot(v1, v2) calculate the inner product between vector v1 and v2\n",
    "np.dot(sim_vec, (rating_matrix[[1,2], 4] - mean_vec[[1,2]])) / sum(sim_vec) + mean_vec[0]"
   ]
  },
  {
   "cell_type": "markdown",
   "metadata": {
    "colab_type": "text",
    "id": "ClimtNyh7-qh"
   },
   "source": [
    "## Generalization for the above calculation\n",
    "The above calculation is limited for predicting Alice's rating for item 5 in the case where similar users are defined as the ones who have user similarity over 0.7.\n",
    "For generalization, I have prepared the function to predict an arbitrary user's rating for an arbitrary item.\n",
    "We can set an arbitrary value to a similarity threshold on the function.\n",
    "The function is defined as the `predicting_rating` method of the `UserBasedCF` class in the file `cf.py` in the `lib` directory.\n",
    "\n",
    "Let's run the following code."
   ]
  },
  {
   "cell_type": "code",
   "execution_count": null,
   "metadata": {
    "colab": {
     "base_uri": "https://localhost:8080/",
     "height": 68
    },
    "colab_type": "code",
    "id": "dTUY8Lnj7-qk",
    "outputId": "1361d036-00e0-4d2c-b099-e5367ac9a19b"
   },
   "outputs": [
    {
     "name": "stderr",
     "output_type": "stream",
     "text": [
      "drive/My Drive/Colab Notebooks/recommender-system-2019/lib/cf.py:34: RuntimeWarning: invalid value encountered in greater_equal\n",
      "  nn = (sim_vec >= sim_threshold)\n"
     ]
    },
    {
     "data": {
      "text/plain": [
       "4.871979899370592"
      ]
     },
     "execution_count": 13,
     "metadata": {
      "tags": []
     },
     "output_type": "execute_result"
    }
   ],
   "source": [
    "# A setting for loading the lib directory\n",
    "import sys\n",
    "sys.path.append(LIBDIR)\n",
    "\n",
    "# Import the ItemBasedCF class\n",
    "from cf import UserBasedCF \n",
    "\n",
    "ubcf = UserBasedCF() # Create a instance of the UserBasedCF class\n",
    "ubcf.predict_rating(df, target_user=0, target_item=4, sim_threshold=0.7)"
   ]
  },
  {
   "cell_type": "markdown",
   "metadata": {
    "colab_type": "text",
    "id": "tBJ4lkI27-ql"
   },
   "source": [
    "---\n",
    "## Method to select nearest neighbor users by neighbor number\n",
    "As I told you in the lecture, we can select nearest neighbor users by using a threshold for the number of similar neighbors, instead of using a threshold for user similarity.\n",
    "\n",
    "In the `predict_rating_with_k_nn` method of the `UserBasedCF` class, if some users are in the top-k ranking of user similarity for a target user, they will be regarded as nearest neighbors (similar users) in the process of prediction calculation.\n",
    "\n",
    "Let's run the following code to predict the rating score of Alice for item 5.\n",
    "Here, a threshold for the number of nearest neighbors is set to 2."
   ]
  },
  {
   "cell_type": "code",
   "execution_count": null,
   "metadata": {
    "colab": {
     "base_uri": "https://localhost:8080/",
     "height": 34
    },
    "colab_type": "code",
    "id": "ea516Wth7-qm",
    "outputId": "b323effc-2ba6-4729-c9c2-1b4a5d9193ea"
   },
   "outputs": [
    {
     "data": {
      "text/plain": [
       "4.871979899370592"
      ]
     },
     "execution_count": 14,
     "metadata": {
      "tags": []
     },
     "output_type": "execute_result"
    }
   ],
   "source": [
    "ubcf.predict_rating_with_k_nn(df, target_user=0, target_item=4, k=2)"
   ]
  },
  {
   "cell_type": "markdown",
   "metadata": {
    "colab_type": "text",
    "id": "FSbdljT87-qn"
   },
   "source": [
    "---\n",
    "## Assignment 1\n",
    "In this assignment, we apply the user-based collaborative filtering for one of famous recommender system datasets, [MovieLens dataset](https://grouplens.org/datasets/movielens/).\n",
    "\n",
    "The MovieLens dataset is a set of rating scores for a lot of movies.\n",
    "In the dataset, each rating score ranges from 1 to 5.\n",
    "In this assignment, we use the **MovieLens Latest Datasets (small)**, one of the MovieLens datasets.\n",
    "The data file `ratings.csv` is located in the directory ``data/ml-latest-small-transformed``.\n",
    "In each row of the file, a userID, a movieID, a rating score, and a timestamp are separated by commas.\n",
    "\n",
    "Complete the following assignments."
   ]
  },
  {
   "cell_type": "markdown",
   "metadata": {
    "colab_type": "text",
    "id": "esJZBPUu7-qo"
   },
   "source": [
    "### Assignment 1-1\n",
    "Load the MovieLens data into the variable `ml_df` using the following `get_movie_lens_datatrame` function.\n"
   ]
  },
  {
   "cell_type": "code",
   "execution_count": null,
   "metadata": {
    "colab": {},
    "colab_type": "code",
    "id": "oCndAG9d7-qo"
   },
   "outputs": [],
   "source": [
    "def get_movie_lens_dataframe(filepath=DATADIR + 'ml-latest-small-transformed/ratings.csv'):\n",
    "    user_num = 610\n",
    "    movie_num = 9724\n",
    "    df = pd.read_csv(filepath)\n",
    "\n",
    "    rating_matrix = np.zeros((user_num, movie_num))\n",
    "    rating_matrix[:, :] = np.nan\n",
    "\n",
    "    for _, row in df.iterrows():\n",
    "        rating_matrix[int(row['userId'])-1, int(row['movieId'])-1] = row['rating']\n",
    "    \n",
    "    rating_df = pd.DataFrame(rating_matrix)\n",
    "    rating_df.columns = ['item{}'.format(i) for i in range(movie_num)]\n",
    "    rating_df.index = ['user{}'.format(i) for i in range(user_num)]\n",
    "    return rating_df"
   ]
  },
  {
   "cell_type": "markdown",
   "metadata": {
    "colab_type": "text",
    "id": "czhSgqVJ7-qq"
   },
   "source": [
    "### Assignment 1-2\n",
    "The `ml_df` loaded in the assignment 1-1 contains the rating scores of user 413.\n",
    "According to the `ml_df`, user 413 did not rate the following movie ids:\n",
    "\n",
    "```\n",
    "unrated_movies = [5, 76, 83, 242, 319, 351, 391, 473, 492, 597, 618, 634, 659, 733, 779, 1105, 1236, 1642, 1804, 2315]\n",
    "```\n",
    "\n",
    "By using a user-based collaborative filtering technique and decide which movie to recommend for user 413.\n",
    "Then, make a list of recommended movies' ids and their predicted rating scores in descending order. \n",
    "Here, nearest neighbor users are defined as the users with top-k high user similarity.\n",
    "Also, the threshold k for selecting nearest neighbors should be 20.\n",
    "\n",
    "(Hint) use the function `ubcf.predict_rating_with_k_nn`.\n"
   ]
  },
  {
   "cell_type": "markdown",
   "metadata": {
    "colab_type": "text",
    "id": "igej6u757-qq"
   },
   "source": [
    "### Assignment 1-3\n",
    "For the same task in the assignment 1-2, apply a user-based collaborative filtering **where a threshold is set for user similarity**.\n",
    "A threshold for the similarity should be 0.5.\n",
    "\n",
    "(Hint) use the function `ubcf.predict_rating`."
   ]
  }
 ],
 "metadata": {
  "colab": {
   "collapsed_sections": [],
   "name": "Copy of 1ce-user-based-cf.ipynb",
   "provenance": [
    {
     "file_id": "1o36FfwkVC2woFqq8klv01_-9IqfR7KCQ",
     "timestamp": 1570095665861
    }
   ]
  },
  "kernelspec": {
   "display_name": "Python 3",
   "language": "python",
   "name": "python3"
  },
  "language_info": {
   "codemirror_mode": {
    "name": "ipython",
    "version": 3
   },
   "file_extension": ".py",
   "mimetype": "text/x-python",
   "name": "python",
   "nbconvert_exporter": "python",
   "pygments_lexer": "ipython3",
   "version": "3.6.6"
  }
 },
 "nbformat": 4,
 "nbformat_minor": 4
}
