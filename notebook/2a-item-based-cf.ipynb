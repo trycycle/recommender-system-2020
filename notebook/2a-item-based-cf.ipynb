{
 "cells": [
  {
   "cell_type": "markdown",
   "metadata": {},
   "source": [
    "# Item-based collaborative filtering and parameter selection for finding nearest neighbors"
   ]
  },
  {
   "cell_type": "markdown",
   "metadata": {},
   "source": [
    "## Assignment 2\n",
    "In this assignment, we will apply the collaborative filtering to **MovieLens Latest Datasets (small)**, which was used for assignment 1.\n",
    "As assignment 1, load the MovieLens data into variable `ml_df` using the function `get_movie_lens_dataframe` and complete the following assignments.\n"
   ]
  },
  {
   "cell_type": "markdown",
   "metadata": {},
   "source": [
    "### Assignment 2-1\n",
    "User 413 in `ml_df` has not rate the following movies yet (numbers mean movie IDs).\n",
    "```\n",
    "unrated_movies = [5, 76, 83, 242, 319, 351, 391, 473, 492, 597, 618, 634, 659, 733, 779, 1105, 1236, 1642, 1804, 2315]\n",
    "```\n",
    "\n",
    "By applying **item-based collaborative filtering** (`predicting_rating_with_k_nn` function) into the dataset, show a list of the top 20 recommended movies for user 413 and their predicted rating scores.\n",
    "Note that a threshold for selecting nearest neighbor items (k) is 20."
   ]
  },
  {
   "cell_type": "code",
   "execution_count": null,
   "metadata": {},
   "outputs": [],
   "source": [
    "!wget -P lib https://raw.githubusercontent.com/trycycle/recommender-system-2020/main/lib/cf.py"
   ]
  },
  {
   "cell_type": "code",
   "execution_count": 2,
   "metadata": {},
   "outputs": [],
   "source": [
    "import numpy as np\n",
    "import pandas as pd \n",
    "\n",
    "# Import the ItemBasedCF class\n",
    "from lib.cf import UserBasedCF, ItemBasedCF"
   ]
  },
  {
   "cell_type": "code",
   "execution_count": 3,
   "metadata": {},
   "outputs": [],
   "source": [
    "def get_movie_lens_dataframe():\n",
    "    user_num = 610\n",
    "    movie_num = 9724\n",
    "    df = pd.read_csv(\"https://github.com/trycycle/recommender-system-2020/raw/main/data/ml-latest-small-transformed/ratings.csv\")\n",
    "\n",
    "    rating_matrix = np.zeros((user_num, movie_num))\n",
    "    rating_matrix[:, :] = np.nan\n",
    "\n",
    "    for _, row in df.iterrows():\n",
    "        rating_matrix[int(row['userId'])-1, int(row['movieId'])-1] = row['rating']\n",
    "    \n",
    "    rating_df = pd.DataFrame(rating_matrix)\n",
    "    rating_df.columns = ['item{}'.format(i) for i in range(movie_num)]\n",
    "    rating_df.index = ['user{}'.format(i) for i in range(user_num)]\n",
    "    return rating_df"
   ]
  },
  {
   "cell_type": "code",
   "execution_count": 4,
   "metadata": {},
   "outputs": [],
   "source": [
    "ml_df = get_movie_lens_dataframe()"
   ]
  },
  {
   "cell_type": "code",
   "execution_count": 5,
   "metadata": {},
   "outputs": [],
   "source": [
    "unrated_movies = [5, 76, 83, 242, 319, 351, 391, 473, 492,\n",
    "                  597, 618, 634, 659, 733, 779, 1105, 1236, 1642, 1804, 2315]"
   ]
  },
  {
   "cell_type": "code",
   "execution_count": 6,
   "metadata": {},
   "outputs": [
    {
     "name": "stdout",
     "output_type": "stream",
     "text": [
      "76 \t 4.606423682279282\n",
      "83 \t 4.594012616142038\n",
      "391 \t 4.278522487229257\n",
      "1105 \t 4.23365772743011\n",
      "242 \t 4.175590304748099\n",
      "351 \t 4.163537127429494\n",
      "2315 \t 3.5816218742719363\n",
      "319 \t 3.420120852827823\n",
      "779 \t 3.4199579479526494\n",
      "5 \t 3.344680567104595\n",
      "1642 \t 3.224534952716217\n",
      "1236 \t 2.9569680003215493\n",
      "492 \t 2.8314425160512635\n",
      "733 \t 2.8271404602246855\n",
      "473 \t 2.8137895007554814\n",
      "618 \t 2.72559890234164\n",
      "597 \t 2.710503049534268\n",
      "659 \t 2.694032720253541\n",
      "1804 \t 2.6884885543673867\n",
      "634 \t 2.1157836577952187\n"
     ]
    }
   ],
   "source": [
    "ibcf = ItemBasedCF() \n",
    "\n",
    "scores = {}\n",
    "for unrated_movie in unrated_movies:\n",
    "    score = ibcf.predict_rating_with_k_nn(ml_df, target_user=413, target_item=unrated_movie, k=20)\n",
    "    scores[unrated_movie] = score\n",
    "    \n",
    "for movie_id, score in sorted(scores.items(), key=lambda x:-x[1]):\n",
    "    print(movie_id, \"\\t\", score)"
   ]
  },
  {
   "cell_type": "markdown",
   "metadata": {},
   "source": [
    "### Assignment 2-2\n",
    "User 413 graded movie 401 as 3 in `ml_df`.\n",
    "Assume that the user had not rated the movie yet and predict the rating score of user 413 for movie 401 using **item-based collaborative filtering**.\n",
    "Also, calculate the absolute value of the delta between the actual value (3) and the predicted value.\n",
    "Note that a threshold for selecting nearest neighbor items (k) is 20."
   ]
  },
  {
   "cell_type": "code",
   "execution_count": 7,
   "metadata": {},
   "outputs": [
    {
     "name": "stdout",
     "output_type": "stream",
     "text": [
      "4.560602443867915 1.5606024438679151\n"
     ]
    }
   ],
   "source": [
    "_ml_df = ml_df.copy()\n",
    "_ml_df.iloc[413, 401] = np.nan\n",
    "\n",
    "score = ibcf.predict_rating_with_k_nn(_ml_df, target_user=413, target_item=401, k=20)\n",
    "delta = abs(score - 3.0) \n",
    "print(score, delta)"
   ]
  },
  {
   "cell_type": "markdown",
   "metadata": {},
   "source": [
    "### Assignment 2-3\n",
    "In assignment 2-2, you calculated the delta value in the setting where k = 20.\n",
    "Conduct the same calculation while changing the threshold k from 1 to 200 by 10.\n",
    "Then, check how the absolute delta changes."
   ]
  },
  {
   "cell_type": "code",
   "execution_count": 8,
   "metadata": {},
   "outputs": [
    {
     "name": "stdout",
     "output_type": "stream",
     "text": [
      "10 4.440927849879402 1.4409278498794018\n",
      "20 4.560602443867915 1.5606024438679151\n",
      "30 4.545395455296045 1.5453954552960454\n",
      "40 4.451648390556956 1.4516483905569562\n",
      "50 4.426893348951836 1.426893348951836\n",
      "60 4.382375990403819 1.382375990403819\n",
      "70 4.372678242193163 1.372678242193163\n",
      "80 4.375555360462801 1.3755553604628012\n",
      "90 4.332442530216759 1.3324425302167588\n",
      "100 4.305459003246238 1.3054590032462379\n",
      "110 4.305074695726723 1.3050746957267227\n",
      "120 4.297740995588388 1.2977409955883878\n",
      "130 4.291711038193224 1.291711038193224\n",
      "140 4.275279210210138 1.2752792102101376\n",
      "150 4.2608527556707125 1.2608527556707125\n",
      "160 4.243360816537545 1.2433608165375452\n",
      "170 4.227488124328039 1.2274881243280387\n",
      "180 4.217827188776154 1.2178271887761536\n",
      "190 4.20120901638749 1.20120901638749\n",
      "200 4.205023005667773 1.2050230056677727\n"
     ]
    }
   ],
   "source": [
    "ibcf_scores = []\n",
    "for i in range(10, 201):\n",
    "    if i % 10 == 0:\n",
    "        score = ibcf.predict_rating_with_k_nn(_ml_df, target_user=413, target_item=401, k=i)\n",
    "        delta = abs(score - 3.0)\n",
    "        ibcf_scores.append((i, score, delta))\n",
    "        print(i, score, delta)"
   ]
  },
  {
   "cell_type": "markdown",
   "metadata": {},
   "source": [
    "### Assignment 2-4\n",
    "Conduct the same calculations in assignment 2-3 using **user-based collaborative filtering**.\n",
    "Then, check how the absolute delta changes."
   ]
  },
  {
   "cell_type": "code",
   "execution_count": 9,
   "metadata": {},
   "outputs": [
    {
     "name": "stdout",
     "output_type": "stream",
     "text": [
      "10 4.0907352113980044 1.0907352113980044\n",
      "20 3.911921944512341 0.9119219445123412\n",
      "30 3.786168301773572 0.7861683017735719\n",
      "40 3.8363315068057373 0.8363315068057373\n",
      "50 3.914248248307037 0.9142482483070369\n",
      "60 3.876752399186387 0.8767523991863868\n",
      "70 3.880964016256943 0.880964016256943\n",
      "80 3.875050949706342 0.8750509497063419\n",
      "90 3.87351160841324 0.8735116084132399\n",
      "100 3.8483383567245184 0.8483383567245184\n",
      "110 3.825438755943037 0.8254387559430372\n",
      "120 3.7859430988752796 0.7859430988752796\n",
      "130 3.7714959339408964 0.7714959339408964\n",
      "140 3.761224332535325 0.761224332535325\n",
      "150 3.7527542669654523 0.7527542669654523\n",
      "160 3.7498923488290457 0.7498923488290457\n",
      "170 3.7657360541895026 0.7657360541895026\n",
      "180 3.8012884088928565 0.8012884088928565\n",
      "190 3.8012884088928565 0.8012884088928565\n",
      "200 3.8012884088928565 0.8012884088928565\n"
     ]
    }
   ],
   "source": [
    "ubcf = UserBasedCF()\n",
    "\n",
    "ubcf_scores = []\n",
    "for i in range(10, 201):\n",
    "    if i % 10 == 0:\n",
    "        score = ubcf.predict_rating_with_k_nn(_ml_df, target_user=413, target_item=401, k=i)\n",
    "        delta = abs(score - 3.0)\n",
    "        ubcf_scores.append((i, score, delta))\n",
    "        print(i, score, delta)"
   ]
  }
 ],
 "metadata": {
  "kernelspec": {
   "display_name": "Python 3",
   "language": "python",
   "name": "python3"
  },
  "language_info": {
   "codemirror_mode": {
    "name": "ipython",
    "version": 3
   },
   "file_extension": ".py",
   "mimetype": "text/x-python",
   "name": "python",
   "nbconvert_exporter": "python",
   "pygments_lexer": "ipython3",
   "version": "3.8.5"
  }
 },
 "nbformat": 4,
 "nbformat_minor": 4
}
