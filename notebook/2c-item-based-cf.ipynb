{
 "cells": [
  {
   "cell_type": "markdown",
   "metadata": {},
   "source": [
    "# Item-based collaborative filtering and parameter selection for finding nearest neighbors"
   ]
  },
  {
   "cell_type": "markdown",
   "metadata": {},
   "source": [
    "In this exercise, we will learn **user-based collaborative filtering**, which focuses on the similarity between items.\n",
    "Also, we will learn and discuss parameters to select nearest neighbors (similar items).\n",
    "\n",
    "In the exercise, we will use the following python libraries.\n",
    "Let's install them before starting the exercise.\n",
    "\n",
    "\n",
    "* numpy、scipy\n",
    "    * Basic libraries for data science\n",
    "* pandas\n",
    "    * A library to efficient handle table-like data\n",
    "* plotly\n",
    "    * A library to make interactive charts"
   ]
  },
  {
   "cell_type": "markdown",
   "metadata": {},
   "source": [
    "To the above libraries, run the following commands on Jupyter.\n",
    "\n",
    "```\n",
    "!pip install numpy\n",
    "!pip install scipy\n",
    "!pip install pandas\n",
    "!pip install plotly\n",
    "```\n",
    "\n",
    "After the installation, if the following commands provide no errors, then you have succeeded in the installation.\n",
    "\n",
    "```\n",
    "import numpy\n",
    "import pandas\n",
    "import scipy\n",
    "import plotly\n",
    "```"
   ]
  },
  {
   "cell_type": "markdown",
   "metadata": {},
   "source": [
    "---\n",
    "## Load libraries and data\n",
    "In this exercise, we will use the simple data being used in the last exercise and apply item-based filtering to the data.\n",
    "Before starting the exercise, let's load necessary libraries by running the following commands."
   ]
  },
  {
   "cell_type": "code",
   "execution_count": 1,
   "metadata": {},
   "outputs": [],
   "source": [
    "import numpy as np\n",
    "import pandas as pd"
   ]
  },
  {
   "cell_type": "markdown",
   "metadata": {},
   "source": [
    "Let's load the data. The data we will use for this exercise is located [here](https://raw.githubusercontent.com/trycycle/recommender-system-2020/main/data/small-example.tsv).\n",
    "The filename is **small-example.csv**. The data is the same as the one that we used last week.\n",
    "In this file, each row means each user's ratings to all items. Each rating score to each item is separated by commas.\n",
    "Please note that the first line is a header.\n",
    "\n",
    "Run the following code, and then we can download the file and load it into the variable `df`."
   ]
  },
  {
   "cell_type": "code",
   "execution_count": 2,
   "metadata": {},
   "outputs": [
    {
     "data": {
      "text/html": [
       "<div>\n",
       "<style scoped>\n",
       "    .dataframe tbody tr th:only-of-type {\n",
       "        vertical-align: middle;\n",
       "    }\n",
       "\n",
       "    .dataframe tbody tr th {\n",
       "        vertical-align: top;\n",
       "    }\n",
       "\n",
       "    .dataframe thead th {\n",
       "        text-align: right;\n",
       "    }\n",
       "</style>\n",
       "<table border=\"1\" class=\"dataframe\">\n",
       "  <thead>\n",
       "    <tr style=\"text-align: right;\">\n",
       "      <th></th>\n",
       "      <th>item1</th>\n",
       "      <th>item2</th>\n",
       "      <th>item3</th>\n",
       "      <th>item4</th>\n",
       "      <th>item5</th>\n",
       "    </tr>\n",
       "    <tr>\n",
       "      <th>user</th>\n",
       "      <th></th>\n",
       "      <th></th>\n",
       "      <th></th>\n",
       "      <th></th>\n",
       "      <th></th>\n",
       "    </tr>\n",
       "  </thead>\n",
       "  <tbody>\n",
       "    <tr>\n",
       "      <th>Alice</th>\n",
       "      <td>5</td>\n",
       "      <td>3</td>\n",
       "      <td>4</td>\n",
       "      <td>4</td>\n",
       "      <td>NaN</td>\n",
       "    </tr>\n",
       "    <tr>\n",
       "      <th>user1</th>\n",
       "      <td>3</td>\n",
       "      <td>1</td>\n",
       "      <td>2</td>\n",
       "      <td>3</td>\n",
       "      <td>3.0</td>\n",
       "    </tr>\n",
       "    <tr>\n",
       "      <th>user2</th>\n",
       "      <td>4</td>\n",
       "      <td>3</td>\n",
       "      <td>4</td>\n",
       "      <td>3</td>\n",
       "      <td>5.0</td>\n",
       "    </tr>\n",
       "    <tr>\n",
       "      <th>user3</th>\n",
       "      <td>3</td>\n",
       "      <td>3</td>\n",
       "      <td>1</td>\n",
       "      <td>5</td>\n",
       "      <td>4.0</td>\n",
       "    </tr>\n",
       "    <tr>\n",
       "      <th>user4</th>\n",
       "      <td>1</td>\n",
       "      <td>5</td>\n",
       "      <td>5</td>\n",
       "      <td>2</td>\n",
       "      <td>1.0</td>\n",
       "    </tr>\n",
       "  </tbody>\n",
       "</table>\n",
       "</div>"
      ],
      "text/plain": [
       "       item1  item2  item3  item4  item5\n",
       "user                                    \n",
       "Alice      5      3      4      4    NaN\n",
       "user1      3      1      2      3    3.0\n",
       "user2      4      3      4      3    5.0\n",
       "user3      3      3      1      5    4.0\n",
       "user4      1      5      5      2    1.0"
      ]
     },
     "execution_count": 2,
     "metadata": {},
     "output_type": "execute_result"
    }
   ],
   "source": [
    "# The parameter index_col=0 enables you to set the first column on data as index names\n",
    "url = \"https://raw.githubusercontent.com/trycycle/recommender-system-2020/main/data/small-example.tsv\"\n",
    "df = pd.read_table(url, sep=\"\\t\" ,index_col=0)\n",
    "df"
   ]
  },
  {
   "cell_type": "markdown",
   "metadata": {},
   "source": [
    "Using `read_csv` method of `pandas`, we can load data as a **data frame** object.\n",
    "We can see that each row means each user and each column means each item rating on the variable `df` (the data frame object)."
   ]
  },
  {
   "cell_type": "markdown",
   "metadata": {},
   "source": [
    "## Calculation similarity between items\n",
    "\n",
    "In the last exercise, we calculated similarities between users to do user-based collaborative filtering.\n",
    "Here, let's calculate similarities **between items** and do item-based collaborative filtering.\n",
    "\n",
    "There are several choices for item similarity metrics, such as Euclidean distance and Pearson correlation coefficient.\n",
    "However, as we learned in the lecture, **cosine similarity** is known as the best metric to compute the similarity between items for item-based collaborative filtering.\n",
    "\n",
    "Let's calculate cosine similarity between items.\n",
    "Given two vectors $v_1$ and $v_2$, the cosine similarity $sim(v_1, v2)$ of $v_1$ and $v_2$ is defined as follows:\n",
    "\n",
    "\\begin{equation*}\n",
    "sim(v_1, v_2) = \\frac{v_1 \\cdot v_2}{|v_1| |v_2|}\n",
    "\\end{equation*}\n",
    "\n",
    "Here, $a \\cdot b$ is the inner product of vectors $a$ and $b$, and $|a|$ is the L2 norm (length) of vector $a$.\n",
    "\n",
    "The following `calc_cosine_similarity` is a function to calculate cosine similarity.\n",
    "Let's use it for this practice.\n",
    "The function `calc_cosine_similarity`'s input is a numpy matrix object.\n",
    "If a matrix is an input to the function, the function considers that each row data of the matrix as vector data and calculate cosine similarities between all row vectors.\n"
   ]
  },
  {
   "cell_type": "code",
   "execution_count": 3,
   "metadata": {},
   "outputs": [],
   "source": [
    "def calc_cosine_similarity(M):\n",
    "    \"\"\" This function ignores N/A elements in M and calculate cosine similarities between all rows.\n",
    "    \"\"\"\n",
    "    if type(M) == np.ndarray:\n",
    "        row_num, col_num = M.shape\n",
    "        \n",
    "        if row_num >= 2:\n",
    "            sim_matrix = np.empty((row_num, row_num))\n",
    "            sim_matrix[:, :] = np.nan\n",
    "\n",
    "            for i in range(row_num):\n",
    "                for j in range(i, row_num):\n",
    "                    if i == j:\n",
    "                        sim_matrix[i, j] = 1\n",
    "                    else:\n",
    "                        inner_product = np.nansum(M[i, :] * M[j, :])\n",
    "                        \n",
    "                        target_cols = ~np.isnan(M[i, :]) & ~np.isnan(M[j, :])\n",
    "                        \n",
    "                        norm_i = np.linalg.norm(M[i, :][target_cols])\n",
    "                        norm_j = np.linalg.norm(M[j, :][target_cols])\n",
    "                        \n",
    "                        sim_matrix[i, j] = inner_product / (norm_i * norm_j)\n",
    "                        sim_matrix[j, i] = sim_matrix[i, j]\n",
    "\n",
    "            return sim_matrix\n",
    "    return None  "
   ]
  },
  {
   "cell_type": "markdown",
   "metadata": {},
   "source": [
    "For cosine similarity calculation, we convert the dataframe `df`, which contains rating scores of users, into a numpy matrix object."
   ]
  },
  {
   "cell_type": "code",
   "execution_count": 4,
   "metadata": {},
   "outputs": [
    {
     "data": {
      "text/plain": [
       "array([[ 5.,  3.,  4.,  4., nan],\n",
       "       [ 3.,  1.,  2.,  3.,  3.],\n",
       "       [ 4.,  3.,  4.,  3.,  5.],\n",
       "       [ 3.,  3.,  1.,  5.,  4.],\n",
       "       [ 1.,  5.,  5.,  2.,  1.]])"
      ]
     },
     "execution_count": 4,
     "metadata": {},
     "output_type": "execute_result"
    }
   ],
   "source": [
    "rating_matrix = df.values\n",
    "rating_matrix"
   ]
  },
  {
   "cell_type": "markdown",
   "metadata": {},
   "source": [
    "As we can see the output data, each row of `rating matrix` is correspondent to each user and each column is correspondent to each item.\n",
    "\n",
    "Let's calculate cosine similarities between items, by using this `rating_matrix` and the function `calc_cosine_similarity`.\n",
    "As we already learned, the function `calc_cosine_similarity` computes similarities between row vectors.\n",
    "Each row of `rating_matrix` is correspondent to each user, and so we will input the transposed matrix of `rating_matrix`."
   ]
  },
  {
   "cell_type": "code",
   "execution_count": 5,
   "metadata": {},
   "outputs": [
    {
     "data": {
      "text/plain": [
       "array([[1.        , 0.78025959, 0.81978229, 0.94337007, 0.99410024],\n",
       "       [0.78025959, 1.        , 0.94201969, 0.84798442, 0.73885058],\n",
       "       [0.81978229, 0.94201969, 1.        , 0.78402509, 0.72261012],\n",
       "       [0.94337007, 0.84798442, 0.78402509, 1.        , 0.93955848],\n",
       "       [0.99410024, 0.73885058, 0.72261012, 0.93955848, 1.        ]])"
      ]
     },
     "execution_count": 5,
     "metadata": {},
     "output_type": "execute_result"
    }
   ],
   "source": [
    "calc_cosine_similarity(rating_matrix.T)"
   ]
  },
  {
   "cell_type": "markdown",
   "metadata": {},
   "source": [
    "We have obtained cosine similarities between items!\n",
    "\n",
    "However, this calculation does not consider the difference in the average rating behavior of the users.\n",
    "That is, the system cannot capture such tendency as some users grade items easily and other users grade ones strictly.\n",
    "\n",
    "To take this problem into account, let's adjust rating scores of users.\n",
    "For this adjustment, here we subtract the user average from the ratings.\n",
    "We calculate the average score of each user as follows."
   ]
  },
  {
   "cell_type": "code",
   "execution_count": 6,
   "metadata": {},
   "outputs": [
    {
     "data": {
      "text/plain": [
       "user\n",
       "Alice    4.0\n",
       "user1    2.4\n",
       "user2    3.8\n",
       "user3    3.2\n",
       "user4    2.8\n",
       "dtype: float64"
      ]
     },
     "execution_count": 6,
     "metadata": {},
     "output_type": "execute_result"
    }
   ],
   "source": [
    "df.mean(axis=1) # Calculate the averages by row. In this calculation, N/A data is ignored."
   ]
  },
  {
   "cell_type": "markdown",
   "metadata": {},
   "source": [
    "For easier matrix operation, we convert the calculated averages into a numpy matrix object."
   ]
  },
  {
   "cell_type": "code",
   "execution_count": 7,
   "metadata": {},
   "outputs": [
    {
     "data": {
      "text/plain": [
       "array([[4. ],\n",
       "       [2.4],\n",
       "       [3.8],\n",
       "       [3.2],\n",
       "       [2.8]])"
      ]
     },
     "execution_count": 7,
     "metadata": {},
     "output_type": "execute_result"
    }
   ],
   "source": [
    "mean_vec = df.mean(axis=1).values # Convert data to a numpy vector data\n",
    "mean_vec = np.reshape(mean_vec, (5, 1)) # Convert a vector to a 5x1 matrix data\n",
    "mean_vec"
   ]
  },
  {
   "cell_type": "markdown",
   "metadata": {},
   "source": [
    "Now we have average score vectors.\n",
    "Let's adjust rating scores as follows."
   ]
  },
  {
   "cell_type": "code",
   "execution_count": 8,
   "metadata": {},
   "outputs": [
    {
     "data": {
      "text/plain": [
       "array([[ 1. ,  0.6,  0.2, -0.2, -1.8],\n",
       "       [-1. , -1.4, -0.8, -0.2,  2.2],\n",
       "       [ 0. , -0.4,  0.2, -2.2,  2.2],\n",
       "       [ 0. ,  0.6, -0.8,  1.8, -0.8],\n",
       "       [ nan,  0.6,  1.2,  0.8, -1.8]])"
      ]
     },
     "execution_count": 8,
     "metadata": {},
     "output_type": "execute_result"
    }
   ],
   "source": [
    "mod_rating_matrix = rating_matrix - mean_vec\n",
    "mod_rating_matrix.T # Transpose a matrix so that each row means each item and each row means each user"
   ]
  },
  {
   "cell_type": "markdown",
   "metadata": {},
   "source": [
    "We can calculate adjusted cosine similarities between items (**item similarity matrix**), by applying `calc_cosine_similarity` to the adjusted rating matrix `mod_rating_matrix`.\n"
   ]
  },
  {
   "cell_type": "code",
   "execution_count": 9,
   "metadata": {},
   "outputs": [
    {
     "data": {
      "text/plain": [
       "array([[ 1.        , -0.93972516, -0.54706829,  0.26784105,  0.80491448],\n",
       "       [-0.93972516,  1.        ,  0.62054308, -0.36064519, -0.90823188],\n",
       "       [-0.54706829,  0.62054308,  1.        , -0.88137969, -0.76356039],\n",
       "       [ 0.26784105, -0.36064519, -0.88137969,  1.        ,  0.43306269],\n",
       "       [ 0.80491448, -0.90823188, -0.76356039,  0.43306269,  1.        ]])"
      ]
     },
     "execution_count": 9,
     "metadata": {},
     "output_type": "execute_result"
    }
   ],
   "source": [
    "sim_matrix = calc_cosine_similarity(mod_rating_matrix.T)\n",
    "sim_matrix"
   ]
  },
  {
   "cell_type": "markdown",
   "metadata": {},
   "source": [
    "## Predicts item ratings using item similarity\n",
    "Let's use the above item similarity matrix and predict Alice ($u_a$)'s rating score for item 5 ($i_5$).\n",
    "Our approach is as follows:\n",
    "1. We define that the top 2 similar items in Alice's rated items are nearest neighbor items ($i \\in I_s$).\n",
    "2. Use the following equation to calculate the rating score of Alice for item 5\n",
    "\n",
    "\\begin{equation}\n",
    "rating(u_a, i_5) = \\overline{r_{u_a}} + \\frac{\\sum_{i \\in I_s}sim(i_5, i) \\times r_{u_a, i}}{\\sum_{i \\in I_s}sim(i_5, i)}\n",
    "\\end{equation}\n",
    "\n",
    "Here, $\\overline{r_u}$ means $u$'s average rating score, and $r'(u, i)$ is the adjusted rating score of user $u$ for item $i$.\n",
    "$sim(i_x, i_y)$ is the cosine similarity between items $x$ and $y$.\n",
    "\n",
    "Let's predict Alice's rating score for item 5.\n",
    "At first, we will obtain the similarity of the two nearest neighbor items for item 5.\n",
    "As we can see the item similarity matrix, we can find that the most two similar items for item 5 are item 1 (sim=0.805) and item 4 (sim=0.433).\n",
    "We can obtain the similarity scores of these two items by using the below code.\n"
   ]
  },
  {
   "cell_type": "code",
   "execution_count": 10,
   "metadata": {},
   "outputs": [
    {
     "data": {
      "text/plain": [
       "array([0.80491448, 0.43306269])"
      ]
     },
     "execution_count": 10,
     "metadata": {},
     "output_type": "execute_result"
    }
   ],
   "source": [
    "# In sim_matrix, item 5 is correspondent to the 4th row (column).\n",
    "sim_vec = sim_matrix[4, [0,3]]\n",
    "sim_vec"
   ]
  },
  {
   "cell_type": "markdown",
   "metadata": {},
   "source": [
    "Next, we will obtain Alice's ratings to item 1 and item 4.\n",
    "We already obtained `mod_rating_matrix`, and so we can easily get the rating scores as follows:"
   ]
  },
  {
   "cell_type": "code",
   "execution_count": 11,
   "metadata": {},
   "outputs": [
    {
     "data": {
      "text/plain": [
       "array([1., 0.])"
      ]
     },
     "execution_count": 11,
     "metadata": {},
     "output_type": "execute_result"
    }
   ],
   "source": [
    "# In mod_rating_matrix, Alice is correspondent to 0th row, item 1 and item 4 are correspondent to the 0th column and the 3rd column, respectively.\n",
    "mod_rating_matrix[0, [0, 3]]"
   ]
  },
  {
   "cell_type": "markdown",
   "metadata": {},
   "source": [
    "Now we are ready to predict Alice rating score for item 5.\n",
    "Let's predict the score by using the above-mentioned equation."
   ]
  },
  {
   "cell_type": "code",
   "execution_count": 12,
   "metadata": {},
   "outputs": [
    {
     "data": {
      "text/plain": [
       "4.650185238495805"
      ]
     },
     "execution_count": 12,
     "metadata": {},
     "output_type": "execute_result"
    }
   ],
   "source": [
    "mean_vec[0, 0] + np.dot(sim_vec, mod_rating_matrix[0, [0, 3]]) / sum(sim_vec) "
   ]
  },
  {
   "cell_type": "markdown",
   "metadata": {},
   "source": [
    "## Generalization for the above calculation\n",
    "The above calculation is limited for predicting Alice's rating for item 5 using the two specific similar items.\n",
    "For generalization, I prepared the function to predict an arbitrary user's rating for an arbitrary item.\n",
    "The function is defined as the `predicting_rating_with_k_nn` method of the `ItemBasedCF` class in the file `cf.py` in the `lib` directory.\n",
    "\n",
    "Let's run the following code."
   ]
  },
  {
   "cell_type": "code",
   "execution_count": 13,
   "metadata": {},
   "outputs": [
    {
     "name": "stdout",
     "output_type": "stream",
     "text": [
      "--2020-12-28 14:16:56--  https://raw.githubusercontent.com/trycycle/recommender-system-2020/main/lib/cf.py\n",
      "raw.githubusercontent.com (raw.githubusercontent.com) をDNSに問いあわせています... 151.101.228.133\n",
      "raw.githubusercontent.com (raw.githubusercontent.com)|151.101.228.133|:443 に接続しています... 接続しました。\n",
      "HTTP による接続要求を送信しました、応答を待っています... 200 OK\n",
      "長さ: 4712 (4.6K) [text/plain]\n",
      "`lib/cf.py' に保存中\n",
      "\n",
      "cf.py               100%[===================>]   4.60K  --.-KB/s    in 0s      \n",
      "\n",
      "2020-12-28 14:16:56 (42.0 MB/s) - `lib/cf.py' へ保存完了 [4712/4712]\n",
      "\n"
     ]
    }
   ],
   "source": [
    "!wget -P lib https://raw.githubusercontent.com/trycycle/recommender-system-2020/main/lib/cf.py"
   ]
  },
  {
   "cell_type": "code",
   "execution_count": 14,
   "metadata": {},
   "outputs": [
    {
     "data": {
      "text/plain": [
       "4.622379629716474"
      ]
     },
     "execution_count": 14,
     "metadata": {},
     "output_type": "execute_result"
    }
   ],
   "source": [
    "# Import ItemBasedCF class \n",
    "from lib.cf import ItemBasedCF \n",
    "\n",
    "ibcf = ItemBasedCF() # Generate an instance of ItemBasedCF class\n",
    "ibcf.predict_rating_with_k_nn(df, 0, 4, k=2)"
   ]
  },
  {
   "cell_type": "markdown",
   "metadata": {},
   "source": [
    "---\n",
    "## Assignment 2\n",
    "In this assignment, we will apply the collaborative filtering to **MovieLens Latest Datasets (small)**, which was used for assignment 1.\n",
    "As assignment 1, load the MovieLens data into variable `ml_df` using the function `get_movie_lens_dataframe` and complete the following assignments.\n"
   ]
  },
  {
   "cell_type": "markdown",
   "metadata": {},
   "source": [
    "### Assignment 2-1\n",
    "User 413 in `ml_df` has not rate the following movies yet (numbers mean movie IDs).\n",
    "```\n",
    "unrated_movies = [5, 76, 83, 242, 319, 351, 391, 473, 492, 597, 618, 634, 659, 733, 779, 1105, 1236, 1642, 1804, 2315]\n",
    "```\n",
    "\n",
    "By applying **item-based collaborative filtering** (`predicting_rating_with_k_nn` function) into the dataset, show a list of the top 20 recommended movies for user 413 and their predicted rating scores.\n",
    "Note that a threshold for selecting nearest neighbor items (k) is 20."
   ]
  },
  {
   "cell_type": "markdown",
   "metadata": {},
   "source": [
    "### Assignment 2-2\n",
    "User 413 graded movie 401 as 3 in `ml_df`.\n",
    "Assume that the user had not rated the movie yet and predict the rating score of user 413 for movie 401 using **item-based collaborative filtering**.\n",
    "Also, calculate the absolute value of the delta between the actual value (3) and the predicted value.\n",
    "Note that a threshold for selecting nearest neighbor items (k) is 20."
   ]
  },
  {
   "cell_type": "markdown",
   "metadata": {},
   "source": [
    "### Assignment 2-3\n",
    "In assignment 2-2, you calculated the delta value in the setting where k = 20.\n",
    "Conduct the same calculation while changing the threshold k from 1 to 200 by 10.\n",
    "Then, check how the absolute delta changes."
   ]
  },
  {
   "cell_type": "markdown",
   "metadata": {},
   "source": [
    "### Assignment 2-4\n",
    "Conduct the same calculations in assignment 2-3 using **user-based collaborative filtering**.\n",
    "Then, check how the absolute delta changes."
   ]
  }
 ],
 "metadata": {
  "kernelspec": {
   "display_name": "Python 3",
   "language": "python",
   "name": "python3"
  },
  "language_info": {
   "codemirror_mode": {
    "name": "ipython",
    "version": 3
   },
   "file_extension": ".py",
   "mimetype": "text/x-python",
   "name": "python",
   "nbconvert_exporter": "python",
   "pygments_lexer": "ipython3",
   "version": "3.8.5"
  }
 },
 "nbformat": 4,
 "nbformat_minor": 4
}
